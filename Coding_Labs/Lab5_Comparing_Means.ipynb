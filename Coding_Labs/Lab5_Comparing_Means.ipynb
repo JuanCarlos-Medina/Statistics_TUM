{
 "cells": [
  {
   "cell_type": "code",
   "execution_count": 1,
   "metadata": {},
   "outputs": [
    {
     "name": "stderr",
     "output_type": "stream",
     "text": [
      "Registered S3 methods overwritten by 'ggplot2':\n",
      "  method         from \n",
      "  [.quosures     rlang\n",
      "  c.quosures     rlang\n",
      "  print.quosures rlang\n"
     ]
    }
   ],
   "source": [
    "library(ggplot2)\n",
    "options(repr.plot.width=4, repr.plot.height=4) # Size of the plots"
   ]
  },
  {
   "cell_type": "markdown",
   "metadata": {},
   "source": [
    "# <font color='#FD7C6E'> Z-test </font>"
   ]
  },
  {
   "cell_type": "markdown",
   "metadata": {},
   "source": [
    "We will perform a z-test **step by step** to understand each part of the hypothesis test."
   ]
  },
  {
   "cell_type": "markdown",
   "metadata": {},
   "source": [
    "Lets load for the last time (this time for real) the Pokemon dataset"
   ]
  },
  {
   "cell_type": "code",
   "execution_count": 2,
   "metadata": {},
   "outputs": [
    {
     "data": {
      "text/html": [
       "79.00125"
      ],
      "text/latex": [
       "79.00125"
      ],
      "text/markdown": [
       "79.00125"
      ],
      "text/plain": [
       "[1] 79.00125"
      ]
     },
     "metadata": {},
     "output_type": "display_data"
    }
   ],
   "source": [
    "pokemon.df <- read.csv(\"pokemon.csv\")\n",
    "population.attack <- pokemon.df$Attack\n",
    "mean(population.attack)"
   ]
  },
  {
   "cell_type": "markdown",
   "metadata": {},
   "source": [
    "### Are fairy pokemons weaker in comparison to the rest of the pokemons?"
   ]
  },
  {
   "cell_type": "code",
   "execution_count": 3,
   "metadata": {
    "scrolled": true
   },
   "outputs": [
    {
     "data": {
      "text/html": [
       "61.5294117647059"
      ],
      "text/latex": [
       "61.5294117647059"
      ],
      "text/markdown": [
       "61.5294117647059"
      ],
      "text/plain": [
       "[1] 61.52941"
      ]
     },
     "metadata": {},
     "output_type": "display_data"
    }
   ],
   "source": [
    "fairy.attack <- pokemon.df[pokemon.df$Type.1==\"Fairy\", ]$Attack\n",
    "mean(fairy.attack)"
   ]
  },
  {
   "cell_type": "markdown",
   "metadata": {},
   "source": [
    "Just by comparing the means it looks like they are weaker, but are they statistically significantly weaker?"
   ]
  },
  {
   "cell_type": "markdown",
   "metadata": {},
   "source": [
    "**STEP 1: Define H0 and H1**"
   ]
  },
  {
   "cell_type": "markdown",
   "metadata": {},
   "source": [
    "\\begin{equation*}\n",
    "H_0: \\overline{X}_{fairy} = \\mu_{all}\n",
    "\\end{equation*}\n",
    "\n",
    "\\begin{equation*}\n",
    "H_1: \\overline{X}_{fairy} < \\mu_{all}\n",
    "\\end{equation*}\n",
    "\n",
    "One-sided hypothesis"
   ]
  },
  {
   "cell_type": "markdown",
   "metadata": {},
   "source": [
    "**STEP 2: Define Significance Level**"
   ]
  },
  {
   "cell_type": "markdown",
   "metadata": {},
   "source": [
    "\\begin{equation*}\n",
    "\\alpha = 0.05\n",
    "\\end{equation*}"
   ]
  },
  {
   "cell_type": "markdown",
   "metadata": {},
   "source": [
    "**STEP 3: Find test statistic**"
   ]
  },
  {
   "cell_type": "markdown",
   "metadata": {},
   "source": [
    "\\begin{equation*}\n",
    "Z = \\frac{\\mu - \\overline{X}}{SE} = \\frac{\\mu - \\overline{X}}{\\frac{\\sigma}{\\sqrt{N}}}\n",
    "\\end{equation*}"
   ]
  },
  {
   "cell_type": "code",
   "execution_count": 4,
   "metadata": {},
   "outputs": [
    {
     "data": {
      "text/html": [
       "7.87206751819175"
      ],
      "text/latex": [
       "7.87206751819175"
      ],
      "text/markdown": [
       "7.87206751819175"
      ],
      "text/plain": [
       "[1] 7.872068"
      ]
     },
     "metadata": {},
     "output_type": "display_data"
    }
   ],
   "source": [
    "SE <- sd(population.attack)/sqrt(length(fairy.attack))\n",
    "SE"
   ]
  },
  {
   "cell_type": "code",
   "execution_count": 5,
   "metadata": {
    "scrolled": true
   },
   "outputs": [
    {
     "data": {
      "text/html": [
       "2.21947260931363"
      ],
      "text/latex": [
       "2.21947260931363"
      ],
      "text/markdown": [
       "2.21947260931363"
      ],
      "text/plain": [
       "[1] 2.219473"
      ]
     },
     "metadata": {},
     "output_type": "display_data"
    }
   ],
   "source": [
    "Z <- (mean(population.attack) - mean(fairy.attack))/SE\n",
    "Z"
   ]
  },
  {
   "cell_type": "markdown",
   "metadata": {},
   "source": [
    "**STEP 4: Find critical value**"
   ]
  },
  {
   "cell_type": "code",
   "execution_count": 6,
   "metadata": {
    "scrolled": true
   },
   "outputs": [
    {
     "data": {
      "text/html": [
       "1.64485362695147"
      ],
      "text/latex": [
       "1.64485362695147"
      ],
      "text/markdown": [
       "1.64485362695147"
      ],
      "text/plain": [
       "[1] 1.644854"
      ]
     },
     "metadata": {},
     "output_type": "display_data"
    }
   ],
   "source": [
    "critical.value <- qnorm(0.95)\n",
    "critical.value"
   ]
  },
  {
   "cell_type": "markdown",
   "metadata": {},
   "source": [
    "**STEP 5: Make a decision**"
   ]
  },
  {
   "cell_type": "markdown",
   "metadata": {},
   "source": [
    "Z is bigger than the critical value!\n",
    "\n",
    "= Reject the null : \n",
    "\n",
    "Fairy pokemons are statistically weaker than the rest of the pokemons"
   ]
  },
  {
   "cell_type": "markdown",
   "metadata": {},
   "source": [
    "**Alternative STEP 4: Calculate p-value**"
   ]
  },
  {
   "cell_type": "code",
   "execution_count": 7,
   "metadata": {},
   "outputs": [
    {
     "data": {
      "text/html": [
       "0.0132272943316576"
      ],
      "text/latex": [
       "0.0132272943316576"
      ],
      "text/markdown": [
       "0.0132272943316576"
      ],
      "text/plain": [
       "[1] 0.01322729"
      ]
     },
     "metadata": {},
     "output_type": "display_data"
    }
   ],
   "source": [
    "p.value <- 1 - pnorm(Z)\n",
    "p.value"
   ]
  },
  {
   "cell_type": "markdown",
   "metadata": {},
   "source": [
    "**Alternative STEP 5: Make a decision**"
   ]
  },
  {
   "cell_type": "markdown",
   "metadata": {},
   "source": [
    "p value is smaller than significance level 0.05\n",
    "\n",
    "We reject the null!\n",
    "\n",
    "(Note that with a significance level of 0.01 we would not be able to reject the null)"
   ]
  },
  {
   "cell_type": "markdown",
   "metadata": {},
   "source": [
    "**STEP 6: Calculate effect size**"
   ]
  },
  {
   "cell_type": "markdown",
   "metadata": {},
   "source": [
    "\\begin{equation*}\n",
    "d = \\frac{\\mu - \\overline{X}}{\\sigma} \n",
    "\\end{equation*}\n",
    "\n",
    "* d= 0 to .2 (small effect size)\n",
    "* d = .2 to .5 (middle effect size)\n",
    "* d = .5 or more (large effect size)"
   ]
  },
  {
   "cell_type": "code",
   "execution_count": 8,
   "metadata": {},
   "outputs": [
    {
     "data": {
      "text/html": [
       "0.538301176550902"
      ],
      "text/latex": [
       "0.538301176550902"
      ],
      "text/markdown": [
       "0.538301176550902"
      ],
      "text/plain": [
       "[1] 0.5383012"
      ]
     },
     "metadata": {},
     "output_type": "display_data"
    }
   ],
   "source": [
    "d <- (mean(population.attack) - mean(fairy.attack))/sd(population.attack)\n",
    "d"
   ]
  },
  {
   "cell_type": "markdown",
   "metadata": {},
   "source": [
    "Large effect!"
   ]
  },
  {
   "cell_type": "markdown",
   "metadata": {},
   "source": [
    "### Activity 1: Is the attack of Fire pokemons different from the mean attack of all pokemons?"
   ]
  },
  {
   "cell_type": "code",
   "execution_count": 9,
   "metadata": {},
   "outputs": [
    {
     "data": {
      "text/html": [
       "84.7692307692308"
      ],
      "text/latex": [
       "84.7692307692308"
      ],
      "text/markdown": [
       "84.7692307692308"
      ],
      "text/plain": [
       "[1] 84.76923"
      ]
     },
     "metadata": {},
     "output_type": "display_data"
    }
   ],
   "source": [
    "fire.attack <- pokemon.df[pokemon.df$Type.1==\"Fire\", ]$Attack\n",
    "mean(fire.attack)"
   ]
  },
  {
   "cell_type": "code",
   "execution_count": 10,
   "metadata": {},
   "outputs": [
    {
     "data": {
      "text/html": [
       "-1.28148109757085"
      ],
      "text/latex": [
       "-1.28148109757085"
      ],
      "text/markdown": [
       "-1.28148109757085"
      ],
      "text/plain": [
       "[1] -1.281481"
      ]
     },
     "metadata": {},
     "output_type": "display_data"
    }
   ],
   "source": [
    "SE <- sd(population.attack)/sqrt(length(fire.attack))\n",
    "Z <- (mean(population.attack) - mean(fire.attack))/SE\n",
    "Z"
   ]
  },
  {
   "cell_type": "code",
   "execution_count": 11,
   "metadata": {},
   "outputs": [
    {
     "data": {
      "text/html": [
       "1.95996398454005"
      ],
      "text/latex": [
       "1.95996398454005"
      ],
      "text/markdown": [
       "1.95996398454005"
      ],
      "text/plain": [
       "[1] 1.959964"
      ]
     },
     "metadata": {},
     "output_type": "display_data"
    }
   ],
   "source": [
    "critical.value <- qnorm(0.975)\n",
    "critical.value"
   ]
  },
  {
   "cell_type": "code",
   "execution_count": 12,
   "metadata": {},
   "outputs": [
    {
     "data": {
      "text/html": [
       "0.200024735140553"
      ],
      "text/latex": [
       "0.200024735140553"
      ],
      "text/markdown": [
       "0.200024735140553"
      ],
      "text/plain": [
       "[1] 0.2000247"
      ]
     },
     "metadata": {},
     "output_type": "display_data"
    }
   ],
   "source": [
    "p.value <- pnorm(Z)*2\n",
    "p.value"
   ]
  },
  {
   "cell_type": "markdown",
   "metadata": {},
   "source": [
    "# <font color='#FD7C6E'> Independent t-test </font>"
   ]
  },
  {
   "cell_type": "markdown",
   "metadata": {},
   "source": [
    "**Good News** From now on we will not calculate test statistics, standard errors, critical values and p-values \"manually\". We will let R do the job for us"
   ]
  },
  {
   "cell_type": "code",
   "execution_count": 13,
   "metadata": {
    "scrolled": true
   },
   "outputs": [
    {
     "data": {
      "text/html": [
       "<table>\n",
       "<thead><tr><th scope=col>jahr</th><th scope=col>dauer</th><th scope=col>besucher_gesamt</th><th scope=col>besucher_tag</th></tr></thead>\n",
       "<tbody>\n",
       "\t<tr><td>1985</td><td>16  </td><td>7.1 </td><td>444 </td></tr>\n",
       "\t<tr><td>1986</td><td>16  </td><td>6.7 </td><td>419 </td></tr>\n",
       "\t<tr><td>1987</td><td>16  </td><td>6.5 </td><td>406 </td></tr>\n",
       "\t<tr><td>1988</td><td>16  </td><td>5.7 </td><td>356 </td></tr>\n",
       "\t<tr><td>1989</td><td>16  </td><td>6.2 </td><td>388 </td></tr>\n",
       "\t<tr><td>1990</td><td>16  </td><td>6.7 </td><td>419 </td></tr>\n",
       "\t<tr><td>1991</td><td>16  </td><td>6.4 </td><td>400 </td></tr>\n",
       "\t<tr><td>1992</td><td>16  </td><td>5.9 </td><td>369 </td></tr>\n",
       "\t<tr><td>1993</td><td>16  </td><td>6.5 </td><td>406 </td></tr>\n",
       "\t<tr><td>1994</td><td>16  </td><td>6.6 </td><td>413 </td></tr>\n",
       "\t<tr><td>1995</td><td>16  </td><td>6.7 </td><td>419 </td></tr>\n",
       "\t<tr><td>1996</td><td>16  </td><td>6.9 </td><td>431 </td></tr>\n",
       "\t<tr><td>1997</td><td>16  </td><td>6.4 </td><td>400 </td></tr>\n",
       "\t<tr><td>1998</td><td>16  </td><td>6.5 </td><td>406 </td></tr>\n",
       "\t<tr><td>1999</td><td>16  </td><td>6.5 </td><td>406 </td></tr>\n",
       "\t<tr><td>2000</td><td>18  </td><td>6.9 </td><td>383 </td></tr>\n",
       "\t<tr><td>2001</td><td>16  </td><td>5.5 </td><td>344 </td></tr>\n",
       "\t<tr><td>2002</td><td>16  </td><td>5.9 </td><td>369 </td></tr>\n",
       "\t<tr><td>2003</td><td>16  </td><td>6.3 </td><td>394 </td></tr>\n",
       "\t<tr><td>2004</td><td>16  </td><td>5.9 </td><td>369 </td></tr>\n",
       "\t<tr><td>2005</td><td>17  </td><td>6.1 </td><td>359 </td></tr>\n",
       "\t<tr><td>2006</td><td>18  </td><td>6.5 </td><td>361 </td></tr>\n",
       "\t<tr><td>2007</td><td>16  </td><td>6.2 </td><td>388 </td></tr>\n",
       "\t<tr><td>2008</td><td>16  </td><td>6.0 </td><td>375 </td></tr>\n",
       "\t<tr><td>2009</td><td>16  </td><td>5.7 </td><td>356 </td></tr>\n",
       "\t<tr><td>2010</td><td>17  </td><td>6.4 </td><td>376 </td></tr>\n",
       "\t<tr><td>2011</td><td>17  </td><td>6.9 </td><td>406 </td></tr>\n",
       "\t<tr><td>2012</td><td>16  </td><td>6.4 </td><td>400 </td></tr>\n",
       "\t<tr><td>2013</td><td>16  </td><td>6.4 </td><td>400 </td></tr>\n",
       "\t<tr><td>2014</td><td>16  </td><td>6.3 </td><td>394 </td></tr>\n",
       "\t<tr><td>2015</td><td>16  </td><td>5.9 </td><td>369 </td></tr>\n",
       "\t<tr><td>2016</td><td>17  </td><td>5.6 </td><td>329 </td></tr>\n",
       "\t<tr><td>2017</td><td>18  </td><td>6.2 </td><td>344 </td></tr>\n",
       "\t<tr><td>2018</td><td>16  </td><td>6.3 </td><td>394 </td></tr>\n",
       "</tbody>\n",
       "</table>\n"
      ],
      "text/latex": [
       "\\begin{tabular}{r|llll}\n",
       " jahr & dauer & besucher\\_gesamt & besucher\\_tag\\\\\n",
       "\\hline\n",
       "\t 1985 & 16   & 7.1  & 444 \\\\\n",
       "\t 1986 & 16   & 6.7  & 419 \\\\\n",
       "\t 1987 & 16   & 6.5  & 406 \\\\\n",
       "\t 1988 & 16   & 5.7  & 356 \\\\\n",
       "\t 1989 & 16   & 6.2  & 388 \\\\\n",
       "\t 1990 & 16   & 6.7  & 419 \\\\\n",
       "\t 1991 & 16   & 6.4  & 400 \\\\\n",
       "\t 1992 & 16   & 5.9  & 369 \\\\\n",
       "\t 1993 & 16   & 6.5  & 406 \\\\\n",
       "\t 1994 & 16   & 6.6  & 413 \\\\\n",
       "\t 1995 & 16   & 6.7  & 419 \\\\\n",
       "\t 1996 & 16   & 6.9  & 431 \\\\\n",
       "\t 1997 & 16   & 6.4  & 400 \\\\\n",
       "\t 1998 & 16   & 6.5  & 406 \\\\\n",
       "\t 1999 & 16   & 6.5  & 406 \\\\\n",
       "\t 2000 & 18   & 6.9  & 383 \\\\\n",
       "\t 2001 & 16   & 5.5  & 344 \\\\\n",
       "\t 2002 & 16   & 5.9  & 369 \\\\\n",
       "\t 2003 & 16   & 6.3  & 394 \\\\\n",
       "\t 2004 & 16   & 5.9  & 369 \\\\\n",
       "\t 2005 & 17   & 6.1  & 359 \\\\\n",
       "\t 2006 & 18   & 6.5  & 361 \\\\\n",
       "\t 2007 & 16   & 6.2  & 388 \\\\\n",
       "\t 2008 & 16   & 6.0  & 375 \\\\\n",
       "\t 2009 & 16   & 5.7  & 356 \\\\\n",
       "\t 2010 & 17   & 6.4  & 376 \\\\\n",
       "\t 2011 & 17   & 6.9  & 406 \\\\\n",
       "\t 2012 & 16   & 6.4  & 400 \\\\\n",
       "\t 2013 & 16   & 6.4  & 400 \\\\\n",
       "\t 2014 & 16   & 6.3  & 394 \\\\\n",
       "\t 2015 & 16   & 5.9  & 369 \\\\\n",
       "\t 2016 & 17   & 5.6  & 329 \\\\\n",
       "\t 2017 & 18   & 6.2  & 344 \\\\\n",
       "\t 2018 & 16   & 6.3  & 394 \\\\\n",
       "\\end{tabular}\n"
      ],
      "text/markdown": [
       "\n",
       "| jahr | dauer | besucher_gesamt | besucher_tag |\n",
       "|---|---|---|---|\n",
       "| 1985 | 16   | 7.1  | 444  |\n",
       "| 1986 | 16   | 6.7  | 419  |\n",
       "| 1987 | 16   | 6.5  | 406  |\n",
       "| 1988 | 16   | 5.7  | 356  |\n",
       "| 1989 | 16   | 6.2  | 388  |\n",
       "| 1990 | 16   | 6.7  | 419  |\n",
       "| 1991 | 16   | 6.4  | 400  |\n",
       "| 1992 | 16   | 5.9  | 369  |\n",
       "| 1993 | 16   | 6.5  | 406  |\n",
       "| 1994 | 16   | 6.6  | 413  |\n",
       "| 1995 | 16   | 6.7  | 419  |\n",
       "| 1996 | 16   | 6.9  | 431  |\n",
       "| 1997 | 16   | 6.4  | 400  |\n",
       "| 1998 | 16   | 6.5  | 406  |\n",
       "| 1999 | 16   | 6.5  | 406  |\n",
       "| 2000 | 18   | 6.9  | 383  |\n",
       "| 2001 | 16   | 5.5  | 344  |\n",
       "| 2002 | 16   | 5.9  | 369  |\n",
       "| 2003 | 16   | 6.3  | 394  |\n",
       "| 2004 | 16   | 5.9  | 369  |\n",
       "| 2005 | 17   | 6.1  | 359  |\n",
       "| 2006 | 18   | 6.5  | 361  |\n",
       "| 2007 | 16   | 6.2  | 388  |\n",
       "| 2008 | 16   | 6.0  | 375  |\n",
       "| 2009 | 16   | 5.7  | 356  |\n",
       "| 2010 | 17   | 6.4  | 376  |\n",
       "| 2011 | 17   | 6.9  | 406  |\n",
       "| 2012 | 16   | 6.4  | 400  |\n",
       "| 2013 | 16   | 6.4  | 400  |\n",
       "| 2014 | 16   | 6.3  | 394  |\n",
       "| 2015 | 16   | 5.9  | 369  |\n",
       "| 2016 | 17   | 5.6  | 329  |\n",
       "| 2017 | 18   | 6.2  | 344  |\n",
       "| 2018 | 16   | 6.3  | 394  |\n",
       "\n"
      ],
      "text/plain": [
       "   jahr dauer besucher_gesamt besucher_tag\n",
       "1  1985 16    7.1             444         \n",
       "2  1986 16    6.7             419         \n",
       "3  1987 16    6.5             406         \n",
       "4  1988 16    5.7             356         \n",
       "5  1989 16    6.2             388         \n",
       "6  1990 16    6.7             419         \n",
       "7  1991 16    6.4             400         \n",
       "8  1992 16    5.9             369         \n",
       "9  1993 16    6.5             406         \n",
       "10 1994 16    6.6             413         \n",
       "11 1995 16    6.7             419         \n",
       "12 1996 16    6.9             431         \n",
       "13 1997 16    6.4             400         \n",
       "14 1998 16    6.5             406         \n",
       "15 1999 16    6.5             406         \n",
       "16 2000 18    6.9             383         \n",
       "17 2001 16    5.5             344         \n",
       "18 2002 16    5.9             369         \n",
       "19 2003 16    6.3             394         \n",
       "20 2004 16    5.9             369         \n",
       "21 2005 17    6.1             359         \n",
       "22 2006 18    6.5             361         \n",
       "23 2007 16    6.2             388         \n",
       "24 2008 16    6.0             375         \n",
       "25 2009 16    5.7             356         \n",
       "26 2010 17    6.4             376         \n",
       "27 2011 17    6.9             406         \n",
       "28 2012 16    6.4             400         \n",
       "29 2013 16    6.4             400         \n",
       "30 2014 16    6.3             394         \n",
       "31 2015 16    5.9             369         \n",
       "32 2016 17    5.6             329         \n",
       "33 2017 18    6.2             344         \n",
       "34 2018 16    6.3             394         "
      ]
     },
     "metadata": {},
     "output_type": "display_data"
    }
   ],
   "source": [
    "oktober.df <- read.csv(\"oktoberfest.csv\")\n",
    "oktober.df"
   ]
  },
  {
   "cell_type": "code",
   "execution_count": 14,
   "metadata": {
    "scrolled": true
   },
   "outputs": [
    {
     "data": {
      "text/html": [
       "<table>\n",
       "<thead><tr><th scope=col>jahr</th><th scope=col>dauer</th><th scope=col>besucher_gesamt</th><th scope=col>besucher_tag</th><th scope=col>zeit</th></tr></thead>\n",
       "<tbody>\n",
       "\t<tr><td>1985  </td><td>16    </td><td>7.1   </td><td>444   </td><td>before</td></tr>\n",
       "\t<tr><td>1986  </td><td>16    </td><td>6.7   </td><td>419   </td><td>before</td></tr>\n",
       "\t<tr><td>1987  </td><td>16    </td><td>6.5   </td><td>406   </td><td>before</td></tr>\n",
       "\t<tr><td>1988  </td><td>16    </td><td>5.7   </td><td>356   </td><td>before</td></tr>\n",
       "\t<tr><td>1989  </td><td>16    </td><td>6.2   </td><td>388   </td><td>before</td></tr>\n",
       "\t<tr><td>1990  </td><td>16    </td><td>6.7   </td><td>419   </td><td>before</td></tr>\n",
       "\t<tr><td>1991  </td><td>16    </td><td>6.4   </td><td>400   </td><td>before</td></tr>\n",
       "\t<tr><td>1992  </td><td>16    </td><td>5.9   </td><td>369   </td><td>before</td></tr>\n",
       "\t<tr><td>1993  </td><td>16    </td><td>6.5   </td><td>406   </td><td>before</td></tr>\n",
       "\t<tr><td>1994  </td><td>16    </td><td>6.6   </td><td>413   </td><td>before</td></tr>\n",
       "\t<tr><td>1995  </td><td>16    </td><td>6.7   </td><td>419   </td><td>before</td></tr>\n",
       "\t<tr><td>1996  </td><td>16    </td><td>6.9   </td><td>431   </td><td>before</td></tr>\n",
       "\t<tr><td>1997  </td><td>16    </td><td>6.4   </td><td>400   </td><td>before</td></tr>\n",
       "\t<tr><td>1998  </td><td>16    </td><td>6.5   </td><td>406   </td><td>before</td></tr>\n",
       "\t<tr><td>1999  </td><td>16    </td><td>6.5   </td><td>406   </td><td>before</td></tr>\n",
       "\t<tr><td>2000  </td><td>18    </td><td>6.9   </td><td>383   </td><td>before</td></tr>\n",
       "\t<tr><td>2001  </td><td>16    </td><td>5.5   </td><td>344   </td><td>after </td></tr>\n",
       "\t<tr><td>2002  </td><td>16    </td><td>5.9   </td><td>369   </td><td>after </td></tr>\n",
       "\t<tr><td>2003  </td><td>16    </td><td>6.3   </td><td>394   </td><td>after </td></tr>\n",
       "\t<tr><td>2004  </td><td>16    </td><td>5.9   </td><td>369   </td><td>after </td></tr>\n",
       "\t<tr><td>2005  </td><td>17    </td><td>6.1   </td><td>359   </td><td>after </td></tr>\n",
       "\t<tr><td>2006  </td><td>18    </td><td>6.5   </td><td>361   </td><td>after </td></tr>\n",
       "\t<tr><td>2007  </td><td>16    </td><td>6.2   </td><td>388   </td><td>after </td></tr>\n",
       "\t<tr><td>2008  </td><td>16    </td><td>6.0   </td><td>375   </td><td>after </td></tr>\n",
       "\t<tr><td>2009  </td><td>16    </td><td>5.7   </td><td>356   </td><td>after </td></tr>\n",
       "\t<tr><td>2010  </td><td>17    </td><td>6.4   </td><td>376   </td><td>after </td></tr>\n",
       "\t<tr><td>2011  </td><td>17    </td><td>6.9   </td><td>406   </td><td>after </td></tr>\n",
       "\t<tr><td>2012  </td><td>16    </td><td>6.4   </td><td>400   </td><td>after </td></tr>\n",
       "\t<tr><td>2013  </td><td>16    </td><td>6.4   </td><td>400   </td><td>after </td></tr>\n",
       "\t<tr><td>2014  </td><td>16    </td><td>6.3   </td><td>394   </td><td>after </td></tr>\n",
       "\t<tr><td>2015  </td><td>16    </td><td>5.9   </td><td>369   </td><td>after </td></tr>\n",
       "\t<tr><td>2016  </td><td>17    </td><td>5.6   </td><td>329   </td><td>after </td></tr>\n",
       "\t<tr><td>2017  </td><td>18    </td><td>6.2   </td><td>344   </td><td>after </td></tr>\n",
       "\t<tr><td>2018  </td><td>16    </td><td>6.3   </td><td>394   </td><td>after </td></tr>\n",
       "</tbody>\n",
       "</table>\n"
      ],
      "text/latex": [
       "\\begin{tabular}{r|lllll}\n",
       " jahr & dauer & besucher\\_gesamt & besucher\\_tag & zeit\\\\\n",
       "\\hline\n",
       "\t 1985   & 16     & 7.1    & 444    & before\\\\\n",
       "\t 1986   & 16     & 6.7    & 419    & before\\\\\n",
       "\t 1987   & 16     & 6.5    & 406    & before\\\\\n",
       "\t 1988   & 16     & 5.7    & 356    & before\\\\\n",
       "\t 1989   & 16     & 6.2    & 388    & before\\\\\n",
       "\t 1990   & 16     & 6.7    & 419    & before\\\\\n",
       "\t 1991   & 16     & 6.4    & 400    & before\\\\\n",
       "\t 1992   & 16     & 5.9    & 369    & before\\\\\n",
       "\t 1993   & 16     & 6.5    & 406    & before\\\\\n",
       "\t 1994   & 16     & 6.6    & 413    & before\\\\\n",
       "\t 1995   & 16     & 6.7    & 419    & before\\\\\n",
       "\t 1996   & 16     & 6.9    & 431    & before\\\\\n",
       "\t 1997   & 16     & 6.4    & 400    & before\\\\\n",
       "\t 1998   & 16     & 6.5    & 406    & before\\\\\n",
       "\t 1999   & 16     & 6.5    & 406    & before\\\\\n",
       "\t 2000   & 18     & 6.9    & 383    & before\\\\\n",
       "\t 2001   & 16     & 5.5    & 344    & after \\\\\n",
       "\t 2002   & 16     & 5.9    & 369    & after \\\\\n",
       "\t 2003   & 16     & 6.3    & 394    & after \\\\\n",
       "\t 2004   & 16     & 5.9    & 369    & after \\\\\n",
       "\t 2005   & 17     & 6.1    & 359    & after \\\\\n",
       "\t 2006   & 18     & 6.5    & 361    & after \\\\\n",
       "\t 2007   & 16     & 6.2    & 388    & after \\\\\n",
       "\t 2008   & 16     & 6.0    & 375    & after \\\\\n",
       "\t 2009   & 16     & 5.7    & 356    & after \\\\\n",
       "\t 2010   & 17     & 6.4    & 376    & after \\\\\n",
       "\t 2011   & 17     & 6.9    & 406    & after \\\\\n",
       "\t 2012   & 16     & 6.4    & 400    & after \\\\\n",
       "\t 2013   & 16     & 6.4    & 400    & after \\\\\n",
       "\t 2014   & 16     & 6.3    & 394    & after \\\\\n",
       "\t 2015   & 16     & 5.9    & 369    & after \\\\\n",
       "\t 2016   & 17     & 5.6    & 329    & after \\\\\n",
       "\t 2017   & 18     & 6.2    & 344    & after \\\\\n",
       "\t 2018   & 16     & 6.3    & 394    & after \\\\\n",
       "\\end{tabular}\n"
      ],
      "text/markdown": [
       "\n",
       "| jahr | dauer | besucher_gesamt | besucher_tag | zeit |\n",
       "|---|---|---|---|---|\n",
       "| 1985   | 16     | 7.1    | 444    | before |\n",
       "| 1986   | 16     | 6.7    | 419    | before |\n",
       "| 1987   | 16     | 6.5    | 406    | before |\n",
       "| 1988   | 16     | 5.7    | 356    | before |\n",
       "| 1989   | 16     | 6.2    | 388    | before |\n",
       "| 1990   | 16     | 6.7    | 419    | before |\n",
       "| 1991   | 16     | 6.4    | 400    | before |\n",
       "| 1992   | 16     | 5.9    | 369    | before |\n",
       "| 1993   | 16     | 6.5    | 406    | before |\n",
       "| 1994   | 16     | 6.6    | 413    | before |\n",
       "| 1995   | 16     | 6.7    | 419    | before |\n",
       "| 1996   | 16     | 6.9    | 431    | before |\n",
       "| 1997   | 16     | 6.4    | 400    | before |\n",
       "| 1998   | 16     | 6.5    | 406    | before |\n",
       "| 1999   | 16     | 6.5    | 406    | before |\n",
       "| 2000   | 18     | 6.9    | 383    | before |\n",
       "| 2001   | 16     | 5.5    | 344    | after  |\n",
       "| 2002   | 16     | 5.9    | 369    | after  |\n",
       "| 2003   | 16     | 6.3    | 394    | after  |\n",
       "| 2004   | 16     | 5.9    | 369    | after  |\n",
       "| 2005   | 17     | 6.1    | 359    | after  |\n",
       "| 2006   | 18     | 6.5    | 361    | after  |\n",
       "| 2007   | 16     | 6.2    | 388    | after  |\n",
       "| 2008   | 16     | 6.0    | 375    | after  |\n",
       "| 2009   | 16     | 5.7    | 356    | after  |\n",
       "| 2010   | 17     | 6.4    | 376    | after  |\n",
       "| 2011   | 17     | 6.9    | 406    | after  |\n",
       "| 2012   | 16     | 6.4    | 400    | after  |\n",
       "| 2013   | 16     | 6.4    | 400    | after  |\n",
       "| 2014   | 16     | 6.3    | 394    | after  |\n",
       "| 2015   | 16     | 5.9    | 369    | after  |\n",
       "| 2016   | 17     | 5.6    | 329    | after  |\n",
       "| 2017   | 18     | 6.2    | 344    | after  |\n",
       "| 2018   | 16     | 6.3    | 394    | after  |\n",
       "\n"
      ],
      "text/plain": [
       "   jahr dauer besucher_gesamt besucher_tag zeit  \n",
       "1  1985 16    7.1             444          before\n",
       "2  1986 16    6.7             419          before\n",
       "3  1987 16    6.5             406          before\n",
       "4  1988 16    5.7             356          before\n",
       "5  1989 16    6.2             388          before\n",
       "6  1990 16    6.7             419          before\n",
       "7  1991 16    6.4             400          before\n",
       "8  1992 16    5.9             369          before\n",
       "9  1993 16    6.5             406          before\n",
       "10 1994 16    6.6             413          before\n",
       "11 1995 16    6.7             419          before\n",
       "12 1996 16    6.9             431          before\n",
       "13 1997 16    6.4             400          before\n",
       "14 1998 16    6.5             406          before\n",
       "15 1999 16    6.5             406          before\n",
       "16 2000 18    6.9             383          before\n",
       "17 2001 16    5.5             344          after \n",
       "18 2002 16    5.9             369          after \n",
       "19 2003 16    6.3             394          after \n",
       "20 2004 16    5.9             369          after \n",
       "21 2005 17    6.1             359          after \n",
       "22 2006 18    6.5             361          after \n",
       "23 2007 16    6.2             388          after \n",
       "24 2008 16    6.0             375          after \n",
       "25 2009 16    5.7             356          after \n",
       "26 2010 17    6.4             376          after \n",
       "27 2011 17    6.9             406          after \n",
       "28 2012 16    6.4             400          after \n",
       "29 2013 16    6.4             400          after \n",
       "30 2014 16    6.3             394          after \n",
       "31 2015 16    5.9             369          after \n",
       "32 2016 17    5.6             329          after \n",
       "33 2017 18    6.2             344          after \n",
       "34 2018 16    6.3             394          after "
      ]
     },
     "metadata": {},
     "output_type": "display_data"
    }
   ],
   "source": [
    "oktober.df$zeit <- c(rep(\"before\", 16), rep(\"after\", 18))\n",
    "oktober.df"
   ]
  },
  {
   "cell_type": "code",
   "execution_count": 15,
   "metadata": {
    "scrolled": false
   },
   "outputs": [
    {
     "data": {
      "image/png": "[encoded data removed]",
      "text/plain": [
       "plot without title"
      ]
     },
     "metadata": {},
     "output_type": "display_data"
    }
   ],
   "source": [
    "ggplot(data=oktober.df, aes(x=zeit, y=besucher_gesamt)) + geom_boxplot()"
   ]
  },
  {
   "cell_type": "code",
   "execution_count": 16,
   "metadata": {},
   "outputs": [],
   "source": [
    "group1 <- oktober.df[oktober.df$zeit==\"before\", ]$besucher_gesamt\n",
    "group2 <- oktober.df[oktober.df$zeit==\"after\", ]$besucher_gesamt"
   ]
  },
  {
   "cell_type": "code",
   "execution_count": 17,
   "metadata": {},
   "outputs": [
    {
     "data": {
      "text/plain": [
       "\n",
       "\tWelch Two Sample t-test\n",
       "\n",
       "data:  group1 and group2\n",
       "t = 3.0715, df = 31.361, p-value = 0.002189\n",
       "alternative hypothesis: true difference in means is greater than 0\n",
       "95 percent confidence interval:\n",
       " 0.167443      Inf\n",
       "sample estimates:\n",
       "mean of x mean of y \n",
       " 6.512500  6.138889 \n"
      ]
     },
     "metadata": {},
     "output_type": "display_data"
    }
   ],
   "source": [
    "t.test(group1, group2, alternative=\"greater\")"
   ]
  },
  {
   "cell_type": "markdown",
   "metadata": {},
   "source": [
    "**Effect size**"
   ]
  },
  {
   "cell_type": "markdown",
   "metadata": {},
   "source": [
    "\\begin{equation*}\n",
    "r = \\sqrt{\\frac{t^2}{(t^2 + df)} }\n",
    "\\end{equation*}\n",
    "\n",
    "* small effect: r = .1\n",
    "* medium effect: r = .3\n",
    "* large effect: r= .5"
   ]
  },
  {
   "cell_type": "code",
   "execution_count": 18,
   "metadata": {},
   "outputs": [
    {
     "data": {
      "text/html": [
       "0.480890783207269"
      ],
      "text/latex": [
       "0.480890783207269"
      ],
      "text/markdown": [
       "0.480890783207269"
      ],
      "text/plain": [
       "[1] 0.4808908"
      ]
     },
     "metadata": {},
     "output_type": "display_data"
    }
   ],
   "source": [
    "r <- sqrt(3.0715^2 / (3.0715^2 + 31.361))\n",
    "r"
   ]
  },
  {
   "cell_type": "markdown",
   "metadata": {},
   "source": [
    "### Activity 2: Fill out the questionaire: https://forms.gle/N3LeF4xqaQ7mFAiJ9"
   ]
  },
  {
   "cell_type": "code",
   "execution_count": 19,
   "metadata": {},
   "outputs": [
    {
     "data": {
      "text/html": [
       "<table>\n",
       "<thead><tr><th scope=col>genre</th><th scope=col>sit</th><th scope=col>beer</th><th scope=col>sleep</th></tr></thead>\n",
       "<tbody>\n",
       "\t<tr><td>Woman</td><td>Front</td><td>0.0  </td><td> 7.0 </td></tr>\n",
       "\t<tr><td>Woman</td><td>Back </td><td>0.0  </td><td> 7.5 </td></tr>\n",
       "\t<tr><td>Woman</td><td>Back </td><td>0.0  </td><td> 6.0 </td></tr>\n",
       "\t<tr><td>Woman</td><td>Back </td><td>2.0  </td><td> 8.0 </td></tr>\n",
       "\t<tr><td>Man  </td><td>Front</td><td>0.0  </td><td> 6.0 </td></tr>\n",
       "\t<tr><td>Woman</td><td>Back </td><td>1.0  </td><td>10.0 </td></tr>\n",
       "\t<tr><td>Man  </td><td>Back </td><td>1.0  </td><td> 8.0 </td></tr>\n",
       "\t<tr><td>Man  </td><td>Back </td><td>1.0  </td><td> 6.0 </td></tr>\n",
       "\t<tr><td>Woman</td><td>Back </td><td>3.0  </td><td> 8.0 </td></tr>\n",
       "\t<tr><td>Woman</td><td>Front</td><td>1.0  </td><td> 7.0 </td></tr>\n",
       "\t<tr><td>Man  </td><td>Front</td><td>3.0  </td><td> 7.0 </td></tr>\n",
       "\t<tr><td>Woman</td><td>Front</td><td>3.0  </td><td> 8.0 </td></tr>\n",
       "\t<tr><td>Woman</td><td>Front</td><td>1.0  </td><td>10.0 </td></tr>\n",
       "\t<tr><td>Man  </td><td>Front</td><td>3.0  </td><td> 8.0 </td></tr>\n",
       "\t<tr><td>Man  </td><td>Front</td><td>2.4  </td><td> 7.5 </td></tr>\n",
       "\t<tr><td>Man  </td><td>Front</td><td>3.5  </td><td> 6.5 </td></tr>\n",
       "\t<tr><td>Woman</td><td>Front</td><td>3.5  </td><td> 7.0 </td></tr>\n",
       "\t<tr><td>Woman</td><td>Back </td><td>2.0  </td><td> 9.0 </td></tr>\n",
       "\t<tr><td>Man  </td><td>Back </td><td>3.0  </td><td> 8.0 </td></tr>\n",
       "\t<tr><td>Woman</td><td>Back </td><td>1.5  </td><td> 5.0 </td></tr>\n",
       "\t<tr><td>Woman</td><td>Back </td><td>3.0  </td><td> 4.0 </td></tr>\n",
       "</tbody>\n",
       "</table>\n"
      ],
      "text/latex": [
       "\\begin{tabular}{r|llll}\n",
       " genre & sit & beer & sleep\\\\\n",
       "\\hline\n",
       "\t Woman & Front & 0.0   &  7.0 \\\\\n",
       "\t Woman & Back  & 0.0   &  7.5 \\\\\n",
       "\t Woman & Back  & 0.0   &  6.0 \\\\\n",
       "\t Woman & Back  & 2.0   &  8.0 \\\\\n",
       "\t Man   & Front & 0.0   &  6.0 \\\\\n",
       "\t Woman & Back  & 1.0   & 10.0 \\\\\n",
       "\t Man   & Back  & 1.0   &  8.0 \\\\\n",
       "\t Man   & Back  & 1.0   &  6.0 \\\\\n",
       "\t Woman & Back  & 3.0   &  8.0 \\\\\n",
       "\t Woman & Front & 1.0   &  7.0 \\\\\n",
       "\t Man   & Front & 3.0   &  7.0 \\\\\n",
       "\t Woman & Front & 3.0   &  8.0 \\\\\n",
       "\t Woman & Front & 1.0   & 10.0 \\\\\n",
       "\t Man   & Front & 3.0   &  8.0 \\\\\n",
       "\t Man   & Front & 2.4   &  7.5 \\\\\n",
       "\t Man   & Front & 3.5   &  6.5 \\\\\n",
       "\t Woman & Front & 3.5   &  7.0 \\\\\n",
       "\t Woman & Back  & 2.0   &  9.0 \\\\\n",
       "\t Man   & Back  & 3.0   &  8.0 \\\\\n",
       "\t Woman & Back  & 1.5   &  5.0 \\\\\n",
       "\t Woman & Back  & 3.0   &  4.0 \\\\\n",
       "\\end{tabular}\n"
      ],
      "text/markdown": [
       "\n",
       "| genre | sit | beer | sleep |\n",
       "|---|---|---|---|\n",
       "| Woman | Front | 0.0   |  7.0  |\n",
       "| Woman | Back  | 0.0   |  7.5  |\n",
       "| Woman | Back  | 0.0   |  6.0  |\n",
       "| Woman | Back  | 2.0   |  8.0  |\n",
       "| Man   | Front | 0.0   |  6.0  |\n",
       "| Woman | Back  | 1.0   | 10.0  |\n",
       "| Man   | Back  | 1.0   |  8.0  |\n",
       "| Man   | Back  | 1.0   |  6.0  |\n",
       "| Woman | Back  | 3.0   |  8.0  |\n",
       "| Woman | Front | 1.0   |  7.0  |\n",
       "| Man   | Front | 3.0   |  7.0  |\n",
       "| Woman | Front | 3.0   |  8.0  |\n",
       "| Woman | Front | 1.0   | 10.0  |\n",
       "| Man   | Front | 3.0   |  8.0  |\n",
       "| Man   | Front | 2.4   |  7.5  |\n",
       "| Man   | Front | 3.5   |  6.5  |\n",
       "| Woman | Front | 3.5   |  7.0  |\n",
       "| Woman | Back  | 2.0   |  9.0  |\n",
       "| Man   | Back  | 3.0   |  8.0  |\n",
       "| Woman | Back  | 1.5   |  5.0  |\n",
       "| Woman | Back  | 3.0   |  4.0  |\n",
       "\n"
      ],
      "text/plain": [
       "   genre sit   beer sleep\n",
       "1  Woman Front 0.0   7.0 \n",
       "2  Woman Back  0.0   7.5 \n",
       "3  Woman Back  0.0   6.0 \n",
       "4  Woman Back  2.0   8.0 \n",
       "5  Man   Front 0.0   6.0 \n",
       "6  Woman Back  1.0  10.0 \n",
       "7  Man   Back  1.0   8.0 \n",
       "8  Man   Back  1.0   6.0 \n",
       "9  Woman Back  3.0   8.0 \n",
       "10 Woman Front 1.0   7.0 \n",
       "11 Man   Front 3.0   7.0 \n",
       "12 Woman Front 3.0   8.0 \n",
       "13 Woman Front 1.0  10.0 \n",
       "14 Man   Front 3.0   8.0 \n",
       "15 Man   Front 2.4   7.5 \n",
       "16 Man   Front 3.5   6.5 \n",
       "17 Woman Front 3.5   7.0 \n",
       "18 Woman Back  2.0   9.0 \n",
       "19 Man   Back  3.0   8.0 \n",
       "20 Woman Back  1.5   5.0 \n",
       "21 Woman Back  3.0   4.0 "
      ]
     },
     "metadata": {},
     "output_type": "display_data"
    }
   ],
   "source": [
    "questions.df <- read.csv(\"questions.csv\")\n",
    "questions.df"
   ]
  },
  {
   "cell_type": "code",
   "execution_count": 20,
   "metadata": {},
   "outputs": [],
   "source": [
    "beer.w <- questions.df[questions.df$genre==\"Woman\",]$beer\n",
    "beer.m <- questions.df[questions.df$genre==\"Man\",]$beer\n",
    "sleep.w <- questions.df[questions.df$genre==\"Woman\",]$sleep\n",
    "sleep.m <- questions.df[questions.df$genre==\"Man\",]$sleep"
   ]
  },
  {
   "cell_type": "code",
   "execution_count": 21,
   "metadata": {},
   "outputs": [
    {
     "data": {
      "image/png": "[encoded data removed]",
      "text/plain": [
       "plot without title"
      ]
     },
     "metadata": {},
     "output_type": "display_data"
    }
   ],
   "source": [
    "ggplot(data=questions.df, aes(x=genre, y=beer)) + geom_boxplot()"
   ]
  },
  {
   "cell_type": "code",
   "execution_count": 22,
   "metadata": {},
   "outputs": [
    {
     "data": {
      "text/plain": [
       "\n",
       "\tWelch Two Sample t-test\n",
       "\n",
       "data:  beer.m and beer.w\n",
       "t = 0.87738, df = 14.707, p-value = 0.1972\n",
       "alternative hypothesis: true difference in means is greater than 0\n",
       "95 percent confidence interval:\n",
       " -0.4974491        Inf\n",
       "sample estimates:\n",
       "mean of x mean of y \n",
       " 2.112500  1.615385 \n"
      ]
     },
     "metadata": {},
     "output_type": "display_data"
    }
   ],
   "source": [
    "t.test(beer.m, beer.w, alternative=\"greater\")"
   ]
  },
  {
   "cell_type": "code",
   "execution_count": 23,
   "metadata": {},
   "outputs": [
    {
     "data": {
      "image/png": "[encoded data removed]",
      "text/plain": [
       "plot without title"
      ]
     },
     "metadata": {},
     "output_type": "display_data"
    }
   ],
   "source": [
    "ggplot(data=questions.df, aes(x=genre, y=sleep)) + geom_boxplot()"
   ]
  },
  {
   "cell_type": "code",
   "execution_count": 24,
   "metadata": {},
   "outputs": [
    {
     "data": {
      "text/plain": [
       "\n",
       "\tWelch Two Sample t-test\n",
       "\n",
       "data:  sleep.m and sleep.w\n",
       "t = -0.5168, df = 18.493, p-value = 0.3057\n",
       "alternative hypothesis: true difference in means is less than 0\n",
       "95 percent confidence interval:\n",
       "      -Inf 0.7006449\n",
       "sample estimates:\n",
       "mean of x mean of y \n",
       " 7.125000  7.423077 \n"
      ]
     },
     "metadata": {},
     "output_type": "display_data"
    }
   ],
   "source": [
    "t.test(sleep.m, sleep.w, alternative=\"less\")"
   ]
  },
  {
   "cell_type": "code",
   "execution_count": 25,
   "metadata": {},
   "outputs": [],
   "source": [
    "beer.f <- questions.df[questions.df$sit==\"Front\",]$beer\n",
    "beer.b <- questions.df[questions.df$sit==\"Back\",]$beer\n",
    "sleep.f <- questions.df[questions.df$sit==\"Front\",]$sleep\n",
    "sleep.b <- questions.df[questions.df$sit==\"Back\",]$sleep"
   ]
  },
  {
   "cell_type": "code",
   "execution_count": 26,
   "metadata": {},
   "outputs": [
    {
     "data": {
      "image/png": "[encoded data removed]",
      "text/plain": [
       "plot without title"
      ]
     },
     "metadata": {},
     "output_type": "display_data"
    }
   ],
   "source": [
    "ggplot(data=questions.df, aes(x=sit, y=beer)) + geom_boxplot()"
   ]
  },
  {
   "cell_type": "code",
   "execution_count": 27,
   "metadata": {},
   "outputs": [
    {
     "data": {
      "text/plain": [
       "\n",
       "\tWelch Two Sample t-test\n",
       "\n",
       "data:  beer.f and beer.b\n",
       "t = 0.80809, df = 17.209, p-value = 0.215\n",
       "alternative hypothesis: true difference in means is greater than 0\n",
       "95 percent confidence interval:\n",
       " -0.5170137        Inf\n",
       "sample estimates:\n",
       "mean of x mean of y \n",
       " 2.040000  1.590909 \n"
      ]
     },
     "metadata": {},
     "output_type": "display_data"
    }
   ],
   "source": [
    "t.test(beer.f, beer.b, alternative=\"greater\")"
   ]
  },
  {
   "cell_type": "code",
   "execution_count": 28,
   "metadata": {},
   "outputs": [
    {
     "data": {
      "image/png": "[encoded data removed]",
      "text/plain": [
       "plot without title"
      ]
     },
     "metadata": {},
     "output_type": "display_data"
    }
   ],
   "source": [
    "ggplot(data=questions.df, aes(x=sit, y=sleep)) + geom_boxplot()"
   ]
  },
  {
   "cell_type": "code",
   "execution_count": 29,
   "metadata": {},
   "outputs": [
    {
     "data": {
      "text/plain": [
       "\n",
       "\tWelch Two Sample t-test\n",
       "\n",
       "data:  sleep.f and sleep.b\n",
       "t = 0.27004, df = 16.865, p-value = 0.6048\n",
       "alternative hypothesis: true difference in means is less than 0\n",
       "95 percent confidence interval:\n",
       "     -Inf 1.285947\n",
       "sample estimates:\n",
       "mean of x mean of y \n",
       " 7.400000  7.227273 \n"
      ]
     },
     "metadata": {},
     "output_type": "display_data"
    }
   ],
   "source": [
    "t.test(sleep.f, sleep.b, alternative=\"less\")"
   ]
  },
  {
   "cell_type": "markdown",
   "metadata": {},
   "source": [
    "# <font color='#FD7C6E'> Dependent t-test </font>"
   ]
  },
  {
   "cell_type": "markdown",
   "metadata": {},
   "source": [
    "**Data:** Hours of extra sleep effect after giving two soporific drugs to 10 patients."
   ]
  },
  {
   "cell_type": "code",
   "execution_count": 30,
   "metadata": {
    "scrolled": true
   },
   "outputs": [
    {
     "data": {
      "text/html": [
       "<table>\n",
       "<thead><tr><th scope=col>extra</th><th scope=col>group</th><th scope=col>ID</th></tr></thead>\n",
       "<tbody>\n",
       "\t<tr><td> 0.7</td><td>1   </td><td> 1  </td></tr>\n",
       "\t<tr><td>-1.6</td><td>1   </td><td> 2  </td></tr>\n",
       "\t<tr><td>-0.2</td><td>1   </td><td> 3  </td></tr>\n",
       "\t<tr><td>-1.2</td><td>1   </td><td> 4  </td></tr>\n",
       "\t<tr><td>-0.1</td><td>1   </td><td> 5  </td></tr>\n",
       "\t<tr><td> 3.4</td><td>1   </td><td> 6  </td></tr>\n",
       "\t<tr><td> 3.7</td><td>1   </td><td> 7  </td></tr>\n",
       "\t<tr><td> 0.8</td><td>1   </td><td> 8  </td></tr>\n",
       "\t<tr><td> 0.0</td><td>1   </td><td> 9  </td></tr>\n",
       "\t<tr><td> 2.0</td><td>1   </td><td>10  </td></tr>\n",
       "\t<tr><td> 1.9</td><td>2   </td><td> 1  </td></tr>\n",
       "\t<tr><td> 0.8</td><td>2   </td><td> 2  </td></tr>\n",
       "\t<tr><td> 1.1</td><td>2   </td><td> 3  </td></tr>\n",
       "\t<tr><td> 0.1</td><td>2   </td><td> 4  </td></tr>\n",
       "\t<tr><td>-0.1</td><td>2   </td><td> 5  </td></tr>\n",
       "\t<tr><td> 4.4</td><td>2   </td><td> 6  </td></tr>\n",
       "\t<tr><td> 5.5</td><td>2   </td><td> 7  </td></tr>\n",
       "\t<tr><td> 1.6</td><td>2   </td><td> 8  </td></tr>\n",
       "\t<tr><td> 4.6</td><td>2   </td><td> 9  </td></tr>\n",
       "\t<tr><td> 3.4</td><td>2   </td><td>10  </td></tr>\n",
       "</tbody>\n",
       "</table>\n"
      ],
      "text/latex": [
       "\\begin{tabular}{r|lll}\n",
       " extra & group & ID\\\\\n",
       "\\hline\n",
       "\t  0.7 & 1    &  1  \\\\\n",
       "\t -1.6 & 1    &  2  \\\\\n",
       "\t -0.2 & 1    &  3  \\\\\n",
       "\t -1.2 & 1    &  4  \\\\\n",
       "\t -0.1 & 1    &  5  \\\\\n",
       "\t  3.4 & 1    &  6  \\\\\n",
       "\t  3.7 & 1    &  7  \\\\\n",
       "\t  0.8 & 1    &  8  \\\\\n",
       "\t  0.0 & 1    &  9  \\\\\n",
       "\t  2.0 & 1    & 10  \\\\\n",
       "\t  1.9 & 2    &  1  \\\\\n",
       "\t  0.8 & 2    &  2  \\\\\n",
       "\t  1.1 & 2    &  3  \\\\\n",
       "\t  0.1 & 2    &  4  \\\\\n",
       "\t -0.1 & 2    &  5  \\\\\n",
       "\t  4.4 & 2    &  6  \\\\\n",
       "\t  5.5 & 2    &  7  \\\\\n",
       "\t  1.6 & 2    &  8  \\\\\n",
       "\t  4.6 & 2    &  9  \\\\\n",
       "\t  3.4 & 2    & 10  \\\\\n",
       "\\end{tabular}\n"
      ],
      "text/markdown": [
       "\n",
       "| extra | group | ID |\n",
       "|---|---|---|\n",
       "|  0.7 | 1    |  1   |\n",
       "| -1.6 | 1    |  2   |\n",
       "| -0.2 | 1    |  3   |\n",
       "| -1.2 | 1    |  4   |\n",
       "| -0.1 | 1    |  5   |\n",
       "|  3.4 | 1    |  6   |\n",
       "|  3.7 | 1    |  7   |\n",
       "|  0.8 | 1    |  8   |\n",
       "|  0.0 | 1    |  9   |\n",
       "|  2.0 | 1    | 10   |\n",
       "|  1.9 | 2    |  1   |\n",
       "|  0.8 | 2    |  2   |\n",
       "|  1.1 | 2    |  3   |\n",
       "|  0.1 | 2    |  4   |\n",
       "| -0.1 | 2    |  5   |\n",
       "|  4.4 | 2    |  6   |\n",
       "|  5.5 | 2    |  7   |\n",
       "|  1.6 | 2    |  8   |\n",
       "|  4.6 | 2    |  9   |\n",
       "|  3.4 | 2    | 10   |\n",
       "\n"
      ],
      "text/plain": [
       "   extra group ID\n",
       "1   0.7  1      1\n",
       "2  -1.6  1      2\n",
       "3  -0.2  1      3\n",
       "4  -1.2  1      4\n",
       "5  -0.1  1      5\n",
       "6   3.4  1      6\n",
       "7   3.7  1      7\n",
       "8   0.8  1      8\n",
       "9   0.0  1      9\n",
       "10  2.0  1     10\n",
       "11  1.9  2      1\n",
       "12  0.8  2      2\n",
       "13  1.1  2      3\n",
       "14  0.1  2      4\n",
       "15 -0.1  2      5\n",
       "16  4.4  2      6\n",
       "17  5.5  2      7\n",
       "18  1.6  2      8\n",
       "19  4.6  2      9\n",
       "20  3.4  2     10"
      ]
     },
     "metadata": {},
     "output_type": "display_data"
    }
   ],
   "source": [
    "sleep.df <- read.csv(\"sleep.csv\")\n",
    "sleep.df"
   ]
  },
  {
   "cell_type": "code",
   "execution_count": 31,
   "metadata": {},
   "outputs": [
    {
     "name": "stdout",
     "output_type": "stream",
     "text": [
      "'data.frame':\t20 obs. of  3 variables:\n",
      " $ extra: num  0.7 -1.6 -0.2 -1.2 -0.1 3.4 3.7 0.8 0 2 ...\n",
      " $ group: int  1 1 1 1 1 1 1 1 1 1 ...\n",
      " $ ID   : int  1 2 3 4 5 6 7 8 9 10 ...\n"
     ]
    }
   ],
   "source": [
    "str(sleep.df)"
   ]
  },
  {
   "cell_type": "code",
   "execution_count": 32,
   "metadata": {},
   "outputs": [
    {
     "name": "stdout",
     "output_type": "stream",
     "text": [
      "'data.frame':\t20 obs. of  3 variables:\n",
      " $ extra: num  0.7 -1.6 -0.2 -1.2 -0.1 3.4 3.7 0.8 0 2 ...\n",
      " $ group: Factor w/ 2 levels \"1\",\"2\": 1 1 1 1 1 1 1 1 1 1 ...\n",
      " $ ID   : int  1 2 3 4 5 6 7 8 9 10 ...\n"
     ]
    }
   ],
   "source": [
    "sleep.df$group <- as.factor(sleep.df$group)\n",
    "str(sleep.df)"
   ]
  },
  {
   "cell_type": "code",
   "execution_count": 33,
   "metadata": {
    "scrolled": false
   },
   "outputs": [
    {
     "data": {
      "image/png": "[encoded data removed]",
      "text/plain": [
       "plot without title"
      ]
     },
     "metadata": {},
     "output_type": "display_data"
    }
   ],
   "source": [
    "ggplot(data=sleep.df, aes(x=group, y=extra)) + geom_boxplot()"
   ]
  },
  {
   "cell_type": "code",
   "execution_count": 34,
   "metadata": {},
   "outputs": [],
   "source": [
    "group1 <- sleep.df[sleep.df$group==1, ]$extra\n",
    "group2 <- sleep.df[sleep.df$group==2, ]$extra"
   ]
  },
  {
   "cell_type": "code",
   "execution_count": 35,
   "metadata": {
    "scrolled": true
   },
   "outputs": [
    {
     "data": {
      "text/plain": [
       "\n",
       "\tPaired t-test\n",
       "\n",
       "data:  group1 and group2\n",
       "t = -4.0621, df = 9, p-value = 0.001416\n",
       "alternative hypothesis: true difference in means is less than 0\n",
       "95 percent confidence interval:\n",
       "       -Inf -0.8669947\n",
       "sample estimates:\n",
       "mean of the differences \n",
       "                  -1.58 \n"
      ]
     },
     "metadata": {},
     "output_type": "display_data"
    }
   ],
   "source": [
    "t.test(group1, group2, paired=TRUE, alternative=\"less\")"
   ]
  },
  {
   "cell_type": "markdown",
   "metadata": {},
   "source": [
    "**Effect size**"
   ]
  },
  {
   "cell_type": "markdown",
   "metadata": {},
   "source": [
    "\\begin{equation*}\n",
    "r = \\sqrt{\\frac{t^2}{(t^2 + df)} }\n",
    "\\end{equation*}"
   ]
  },
  {
   "cell_type": "code",
   "execution_count": 36,
   "metadata": {},
   "outputs": [
    {
     "data": {
      "text/html": [
       "0.804405313604444"
      ],
      "text/latex": [
       "0.804405313604444"
      ],
      "text/markdown": [
       "0.804405313604444"
      ],
      "text/plain": [
       "[1] 0.8044053"
      ]
     },
     "metadata": {},
     "output_type": "display_data"
    }
   ],
   "source": [
    "r <- sqrt(4.0621^2 / (4.0621^2 + 9))\n",
    "r"
   ]
  },
  {
   "cell_type": "markdown",
   "metadata": {},
   "source": [
    "# <font color='#FD7C6E'> One-way ANOVA </font>"
   ]
  },
  {
   "cell_type": "markdown",
   "metadata": {},
   "source": [
    "**Data:** Age at death among members of the sovereignty, aristocracy, and gentry in Europe in 1845"
   ]
  },
  {
   "cell_type": "code",
   "execution_count": 37,
   "metadata": {
    "scrolled": false
   },
   "outputs": [
    {
     "data": {
      "text/plain": [
       "  class           age        \n",
       " aris:2291   Min.   : 21.00  \n",
       " gent:2455   1st Qu.: 45.00  \n",
       " sovr:1440   Median : 60.00  \n",
       "             Mean   : 57.68  \n",
       "             3rd Qu.: 71.00  \n",
       "             Max.   :102.00  "
      ]
     },
     "metadata": {},
     "output_type": "display_data"
    }
   ],
   "source": [
    "death.df <- read.csv(\"death.csv\")\n",
    "summary(death.df)"
   ]
  },
  {
   "cell_type": "code",
   "execution_count": 38,
   "metadata": {
    "scrolled": true
   },
   "outputs": [
    {
     "name": "stdout",
     "output_type": "stream",
     "text": [
      "'data.frame':\t6186 obs. of  2 variables:\n",
      " $ class: Factor w/ 3 levels \"aris\",\"gent\",..: 1 1 1 1 1 1 1 1 1 1 ...\n",
      " $ age  : int  21 21 21 21 21 21 21 22 22 22 ...\n"
     ]
    }
   ],
   "source": [
    "str(death.df)"
   ]
  },
  {
   "cell_type": "code",
   "execution_count": 39,
   "metadata": {},
   "outputs": [
    {
     "data": {
      "image/png": "[encoded data removed]",
      "text/plain": [
       "plot without title"
      ]
     },
     "metadata": {},
     "output_type": "display_data"
    }
   ],
   "source": [
    "ggplot(data=death.df, aes(x=class, y=age)) + geom_boxplot()"
   ]
  },
  {
   "cell_type": "code",
   "execution_count": 40,
   "metadata": {
    "scrolled": true
   },
   "outputs": [
    {
     "data": {
      "text/plain": [
       "              Df  Sum Sq Mean Sq F value Pr(>F)    \n",
       "class          2   32392   16196   53.76 <2e-16 ***\n",
       "Residuals   6183 1862626     301                   \n",
       "---\n",
       "Signif. codes:  0 ‘***’ 0.001 ‘**’ 0.01 ‘*’ 0.05 ‘.’ 0.1 ‘ ’ 1"
      ]
     },
     "metadata": {},
     "output_type": "display_data"
    }
   ],
   "source": [
    "anova <- aov(age ~ class, data = death.df)\n",
    "summary(anova)"
   ]
  },
  {
   "cell_type": "markdown",
   "metadata": {},
   "source": [
    "**Effect size**"
   ]
  },
  {
   "cell_type": "markdown",
   "metadata": {},
   "source": [
    "\\begin{equation*}\n",
    "\\eta^2 = \\frac{SS_{between}}{SS_{total}} \n",
    "\\end{equation*}\n",
    "\n",
    "* small effect .01\n",
    "* medium effect size .06\n",
    "* large effect size .14"
   ]
  },
  {
   "cell_type": "code",
   "execution_count": 41,
   "metadata": {},
   "outputs": [
    {
     "data": {
      "text/html": [
       "0.0170932413306892"
      ],
      "text/latex": [
       "0.0170932413306892"
      ],
      "text/markdown": [
       "0.0170932413306892"
      ],
      "text/plain": [
       "[1] 0.01709324"
      ]
     },
     "metadata": {},
     "output_type": "display_data"
    }
   ],
   "source": [
    "eta <- 32392/(32392 + 1862626)\n",
    "eta"
   ]
  },
  {
   "cell_type": "markdown",
   "metadata": {},
   "source": [
    "**Post-hoc tests**"
   ]
  },
  {
   "cell_type": "code",
   "execution_count": 42,
   "metadata": {
    "scrolled": false
   },
   "outputs": [
    {
     "data": {
      "text/plain": [
       "\n",
       "\tPairwise comparisons using t tests with pooled SD \n",
       "\n",
       "data:  death.df$age and death.df$class \n",
       "\n",
       "     aris    gent   \n",
       "gent 1.0e-08 -      \n",
       "sovr < 2e-16 9.7e-08\n",
       "\n",
       "P value adjustment method: BH "
      ]
     },
     "metadata": {},
     "output_type": "display_data"
    }
   ],
   "source": [
    "pairwise.t.test(death.df$age, death.df$class, p.adjust.method = \"BH\")"
   ]
  }
 ],
 "metadata": {
  "kernelspec": {
   "display_name": "R",
   "language": "R",
   "name": "ir"
  },
  "language_info": {
   "codemirror_mode": "r",
   "file_extension": ".r",
   "mimetype": "text/x-r-source",
   "name": "R",
   "pygments_lexer": "r",
   "version": "3.6.1"
  }
 },
 "nbformat": 4,
 "nbformat_minor": 2
}
