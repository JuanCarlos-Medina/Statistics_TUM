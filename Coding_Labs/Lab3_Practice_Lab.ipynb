{
 "cells": [
  {
   "cell_type": "markdown",
   "metadata": {},
   "source": [
    "In this lab we will practice what we learned in Lab 1 and 2"
   ]
  },
  {
   "cell_type": "markdown",
   "metadata": {},
   "source": [
    "**STEP 1:** Download the file \"afd_facebook.csv\" and copy it to your statistics folder"
   ]
  },
  {
   "cell_type": "markdown",
   "metadata": {},
   "source": [
    "It contains all the users that commented or reacted to a post from the AfD's main Facebook page in the month of September 2017"
   ]
  },
  {
   "cell_type": "markdown",
   "metadata": {},
   "source": [
    "### 1. Read the csv and assign it to a dataframe. Choose any name you want"
   ]
  },
  {
   "cell_type": "code",
   "execution_count": 38,
   "metadata": {},
   "outputs": [],
   "source": [
    "afd.df <- read.csv(\"afd_facebook.csv\")"
   ]
  },
  {
   "cell_type": "markdown",
   "metadata": {},
   "source": [
    "### 2. Use the head function to see the first lines of the dataframe"
   ]
  },
  {
   "cell_type": "code",
   "execution_count": 39,
   "metadata": {},
   "outputs": [
    {
     "data": {
      "text/html": [
       "<table>\n",
       "<thead><tr><th scope=col>user_name</th><th scope=col>reaction</th><th scope=col>count</th></tr></thead>\n",
       "<tbody>\n",
       "\t<tr><td>Günter Pech    </td><td>LOVE           </td><td> 2             </td></tr>\n",
       "\t<tr><td>Rainer Jensch  </td><td>LOVE           </td><td>13             </td></tr>\n",
       "\t<tr><td>Peter Stein    </td><td>LOVE           </td><td> 7             </td></tr>\n",
       "\t<tr><td>Robin Prokaska </td><td>LOVE           </td><td>24             </td></tr>\n",
       "\t<tr><td>Thomas Bernhard</td><td>LOVE           </td><td> 5             </td></tr>\n",
       "\t<tr><td>David Bräuer   </td><td>LOVE           </td><td> 1             </td></tr>\n",
       "</tbody>\n",
       "</table>\n"
      ],
      "text/latex": [
       "\\begin{tabular}{r|lll}\n",
       " user\\_name & reaction & count\\\\\n",
       "\\hline\n",
       "\t Günter Pech     & LOVE            &  2             \\\\\n",
       "\t Rainer Jensch   & LOVE            & 13             \\\\\n",
       "\t Peter Stein     & LOVE            &  7             \\\\\n",
       "\t Robin Prokaska  & LOVE            & 24             \\\\\n",
       "\t Thomas Bernhard & LOVE            &  5             \\\\\n",
       "\t David Bräuer    & LOVE            &  1             \\\\\n",
       "\\end{tabular}\n"
      ],
      "text/markdown": [
       "\n",
       "| user_name | reaction | count |\n",
       "|---|---|---|\n",
       "| Günter Pech     | LOVE            |  2              |\n",
       "| Rainer Jensch   | LOVE            | 13              |\n",
       "| Peter Stein     | LOVE            |  7              |\n",
       "| Robin Prokaska  | LOVE            | 24              |\n",
       "| Thomas Bernhard | LOVE            |  5              |\n",
       "| David Bräuer    | LOVE            |  1              |\n",
       "\n"
      ],
      "text/plain": [
       "  user_name       reaction count\n",
       "1 Günter Pech     LOVE      2   \n",
       "2 Rainer Jensch   LOVE     13   \n",
       "3 Peter Stein     LOVE      7   \n",
       "4 Robin Prokaska  LOVE     24   \n",
       "5 Thomas Bernhard LOVE      5   \n",
       "6 David Bräuer    LOVE      1   "
      ]
     },
     "metadata": {},
     "output_type": "display_data"
    }
   ],
   "source": [
    "head(afd.df)"
   ]
  },
  {
   "cell_type": "markdown",
   "metadata": {},
   "source": [
    "### 3. Check the type of data each column has with the function str()"
   ]
  },
  {
   "cell_type": "code",
   "execution_count": 40,
   "metadata": {
    "scrolled": false
   },
   "outputs": [
    {
     "name": "stdout",
     "output_type": "stream",
     "text": [
      "'data.frame':\t208262 obs. of  3 variables:\n",
      " $ user_name: Factor w/ 158330 levels \" Bert Schmitz \",..: 49830 117778 115012 123996 142918 29581 58650 75683 84416 10105 ...\n",
      " $ reaction : Factor w/ 7 levels \"ANGRY\",\"COMMENT\",..: 5 5 5 5 5 5 5 5 5 5 ...\n",
      " $ count    : int  2 13 7 24 5 1 34 14 3 15 ...\n"
     ]
    }
   ],
   "source": [
    "str(afd.df)"
   ]
  },
  {
   "cell_type": "markdown",
   "metadata": {},
   "source": [
    "### 4. Convert the user_name column to character with the function as.character()"
   ]
  },
  {
   "cell_type": "code",
   "execution_count": 41,
   "metadata": {},
   "outputs": [],
   "source": [
    "afd.df$user_name <- as.character(afd.df$user_name)"
   ]
  },
  {
   "cell_type": "code",
   "execution_count": 42,
   "metadata": {},
   "outputs": [
    {
     "name": "stdout",
     "output_type": "stream",
     "text": [
      "'data.frame':\t208262 obs. of  3 variables:\n",
      " $ user_name: chr  \"Günter Pech\" \"Rainer Jensch\" \"Peter Stein\" \"Robin Prokaska\" ...\n",
      " $ reaction : Factor w/ 7 levels \"ANGRY\",\"COMMENT\",..: 5 5 5 5 5 5 5 5 5 5 ...\n",
      " $ count    : int  2 13 7 24 5 1 34 14 3 15 ...\n"
     ]
    }
   ],
   "source": [
    "str(afd.df)"
   ]
  },
  {
   "cell_type": "markdown",
   "metadata": {},
   "source": [
    "### 5. Which users use LOVE reaction to the AfD posts? "
   ]
  },
  {
   "cell_type": "code",
   "execution_count": 43,
   "metadata": {},
   "outputs": [
    {
     "data": {
      "text/html": [
       "<table>\n",
       "<thead><tr><th scope=col>user_name</th><th scope=col>reaction</th><th scope=col>count</th></tr></thead>\n",
       "<tbody>\n",
       "\t<tr><td>Günter Pech         </td><td>LOVE                </td><td> 2                  </td></tr>\n",
       "\t<tr><td>Rainer Jensch       </td><td>LOVE                </td><td>13                  </td></tr>\n",
       "\t<tr><td>Peter Stein         </td><td>LOVE                </td><td> 7                  </td></tr>\n",
       "\t<tr><td>Robin Prokaska      </td><td>LOVE                </td><td>24                  </td></tr>\n",
       "\t<tr><td>Thomas Bernhard     </td><td>LOVE                </td><td> 5                  </td></tr>\n",
       "\t<tr><td>David Bräuer        </td><td>LOVE                </td><td> 1                  </td></tr>\n",
       "\t<tr><td>Ingrid Baumeister   </td><td>LOVE                </td><td>34                  </td></tr>\n",
       "\t<tr><td>Kim Hödl            </td><td>LOVE                </td><td>14                  </td></tr>\n",
       "\t<tr><td>Manfred Schmidt     </td><td>LOVE                </td><td> 3                  </td></tr>\n",
       "\t<tr><td>Anna Jes            </td><td>LOVE                </td><td>15                  </td></tr>\n",
       "\t<tr><td>Timo Gründert       </td><td>LOVE                </td><td> 4                  </td></tr>\n",
       "\t<tr><td>Helena Winkler      </td><td>LOVE                </td><td> 3                  </td></tr>\n",
       "\t<tr><td>Bach Dirk           </td><td>LOVE                </td><td>10                  </td></tr>\n",
       "\t<tr><td>Nolan Reimann       </td><td>LOVE                </td><td> 1                  </td></tr>\n",
       "\t<tr><td>Sylvia Morgenstern  </td><td>LOVE                </td><td>12                  </td></tr>\n",
       "\t<tr><td>Marcel Bo           </td><td>LOVE                </td><td>16                  </td></tr>\n",
       "\t<tr><td>Andreas Frötschner  </td><td>LOVE                </td><td> 1                  </td></tr>\n",
       "\t<tr><td>Ralf Kaufmann       </td><td>LOVE                </td><td> 5                  </td></tr>\n",
       "\t<tr><td>Rolf Göhl           </td><td>LOVE                </td><td> 1                  </td></tr>\n",
       "\t<tr><td>Cornelia Jarvis     </td><td>LOVE                </td><td> 1                  </td></tr>\n",
       "\t<tr><td>Rolf Brandt         </td><td>LOVE                </td><td>14                  </td></tr>\n",
       "\t<tr><td>Thomas Korte        </td><td>LOVE                </td><td> 5                  </td></tr>\n",
       "\t<tr><td>Damir Lu            </td><td>LOVE                </td><td> 2                  </td></tr>\n",
       "\t<tr><td>Piotr Haidhof       </td><td>LOVE                </td><td> 3                  </td></tr>\n",
       "\t<tr><td>Conny Berger        </td><td>LOVE                </td><td>18                  </td></tr>\n",
       "\t<tr><td>Sigrid Schenköwitz  </td><td>LOVE                </td><td>14                  </td></tr>\n",
       "\t<tr><td>Velichka Mutavchieva</td><td>LOVE                </td><td> 7                  </td></tr>\n",
       "\t<tr><td>Hermann Schloss     </td><td>LOVE                </td><td> 1                  </td></tr>\n",
       "\t<tr><td>Dagmar Korn         </td><td>LOVE                </td><td>17                  </td></tr>\n",
       "\t<tr><td>Thomas Krebs        </td><td>LOVE                </td><td> 5                  </td></tr>\n",
       "\t<tr><td>...</td><td>...</td><td>...</td></tr>\n",
       "\t<tr><td>Luca Müller           </td><td>LOVE                  </td><td>1                     </td></tr>\n",
       "\t<tr><td>Karsten Hahn          </td><td>LOVE                  </td><td>1                     </td></tr>\n",
       "\t<tr><td>Guggy Boss            </td><td>LOVE                  </td><td>1                     </td></tr>\n",
       "\t<tr><td>Encho Enchev          </td><td>LOVE                  </td><td>1                     </td></tr>\n",
       "\t<tr><td>Anni Meister          </td><td>LOVE                  </td><td>1                     </td></tr>\n",
       "\t<tr><td>Beate Kliemann        </td><td>LOVE                  </td><td>1                     </td></tr>\n",
       "\t<tr><td>Sascha Darki          </td><td>LOVE                  </td><td>1                     </td></tr>\n",
       "\t<tr><td>Ralf Buthut           </td><td>LOVE                  </td><td>1                     </td></tr>\n",
       "\t<tr><td>Jan Hofmann           </td><td>LOVE                  </td><td>1                     </td></tr>\n",
       "\t<tr><td>Kevin Mike Peters     </td><td>LOVE                  </td><td>1                     </td></tr>\n",
       "\t<tr><td>Martin Götz           </td><td>LOVE                  </td><td>1                     </td></tr>\n",
       "\t<tr><td>Oliver von Hartig     </td><td>LOVE                  </td><td>1                     </td></tr>\n",
       "\t<tr><td>Thomas Marcio De Souza</td><td>LOVE                  </td><td>1                     </td></tr>\n",
       "\t<tr><td>Michael Jessenwanger  </td><td>LOVE                  </td><td>1                     </td></tr>\n",
       "\t<tr><td>Hans-Jürgen Reschke   </td><td>LOVE                  </td><td>1                     </td></tr>\n",
       "\t<tr><td>Alan Kiss             </td><td>LOVE                  </td><td>1                     </td></tr>\n",
       "\t<tr><td>Sascha Bogosavljevic  </td><td>LOVE                  </td><td>1                     </td></tr>\n",
       "\t<tr><td>Dani Dümler           </td><td>LOVE                  </td><td>1                     </td></tr>\n",
       "\t<tr><td>Eddie Lossau          </td><td>LOVE                  </td><td>1                     </td></tr>\n",
       "\t<tr><td>Dirk Nowack           </td><td>LOVE                  </td><td>1                     </td></tr>\n",
       "\t<tr><td>Holger Hinze          </td><td>LOVE                  </td><td>1                     </td></tr>\n",
       "\t<tr><td>Claudi Le Mann        </td><td>LOVE                  </td><td>1                     </td></tr>\n",
       "\t<tr><td>Gerd Vos              </td><td>LOVE                  </td><td>1                     </td></tr>\n",
       "\t<tr><td>Jóvenes de Oro        </td><td>LOVE                  </td><td>1                     </td></tr>\n",
       "\t<tr><td>Gedanken Melodie      </td><td>LOVE                  </td><td>1                     </td></tr>\n",
       "\t<tr><td>Roger Mehardel        </td><td>LOVE                  </td><td>1                     </td></tr>\n",
       "\t<tr><td>Claus Rin             </td><td>LOVE                  </td><td>1                     </td></tr>\n",
       "\t<tr><td>Jens Ziss             </td><td>LOVE                  </td><td>1                     </td></tr>\n",
       "\t<tr><td>Andrea Meyhoff-Buscher</td><td>LOVE                  </td><td>1                     </td></tr>\n",
       "\t<tr><td>David Meerstein       </td><td>LOVE                  </td><td>1                     </td></tr>\n",
       "</tbody>\n",
       "</table>\n"
      ],
      "text/latex": [
       "\\begin{tabular}{r|lll}\n",
       " user\\_name & reaction & count\\\\\n",
       "\\hline\n",
       "\t Günter Pech          & LOVE                 &  2                  \\\\\n",
       "\t Rainer Jensch        & LOVE                 & 13                  \\\\\n",
       "\t Peter Stein          & LOVE                 &  7                  \\\\\n",
       "\t Robin Prokaska       & LOVE                 & 24                  \\\\\n",
       "\t Thomas Bernhard      & LOVE                 &  5                  \\\\\n",
       "\t David Bräuer         & LOVE                 &  1                  \\\\\n",
       "\t Ingrid Baumeister    & LOVE                 & 34                  \\\\\n",
       "\t Kim Hödl             & LOVE                 & 14                  \\\\\n",
       "\t Manfred Schmidt      & LOVE                 &  3                  \\\\\n",
       "\t Anna Jes             & LOVE                 & 15                  \\\\\n",
       "\t Timo Gründert        & LOVE                 &  4                  \\\\\n",
       "\t Helena Winkler       & LOVE                 &  3                  \\\\\n",
       "\t Bach Dirk            & LOVE                 & 10                  \\\\\n",
       "\t Nolan Reimann        & LOVE                 &  1                  \\\\\n",
       "\t Sylvia Morgenstern   & LOVE                 & 12                  \\\\\n",
       "\t Marcel Bo            & LOVE                 & 16                  \\\\\n",
       "\t Andreas Frötschner   & LOVE                 &  1                  \\\\\n",
       "\t Ralf Kaufmann        & LOVE                 &  5                  \\\\\n",
       "\t Rolf Göhl            & LOVE                 &  1                  \\\\\n",
       "\t Cornelia Jarvis      & LOVE                 &  1                  \\\\\n",
       "\t Rolf Brandt          & LOVE                 & 14                  \\\\\n",
       "\t Thomas Korte         & LOVE                 &  5                  \\\\\n",
       "\t Damir Lu             & LOVE                 &  2                  \\\\\n",
       "\t Piotr Haidhof        & LOVE                 &  3                  \\\\\n",
       "\t Conny Berger         & LOVE                 & 18                  \\\\\n",
       "\t Sigrid Schenköwitz   & LOVE                 & 14                  \\\\\n",
       "\t Velichka Mutavchieva & LOVE                 &  7                  \\\\\n",
       "\t Hermann Schloss      & LOVE                 &  1                  \\\\\n",
       "\t Dagmar Korn          & LOVE                 & 17                  \\\\\n",
       "\t Thomas Krebs         & LOVE                 &  5                  \\\\\n",
       "\t ... & ... & ...\\\\\n",
       "\t Luca Müller            & LOVE                   & 1                     \\\\\n",
       "\t Karsten Hahn           & LOVE                   & 1                     \\\\\n",
       "\t Guggy Boss             & LOVE                   & 1                     \\\\\n",
       "\t Encho Enchev           & LOVE                   & 1                     \\\\\n",
       "\t Anni Meister           & LOVE                   & 1                     \\\\\n",
       "\t Beate Kliemann         & LOVE                   & 1                     \\\\\n",
       "\t Sascha Darki           & LOVE                   & 1                     \\\\\n",
       "\t Ralf Buthut            & LOVE                   & 1                     \\\\\n",
       "\t Jan Hofmann            & LOVE                   & 1                     \\\\\n",
       "\t Kevin Mike Peters      & LOVE                   & 1                     \\\\\n",
       "\t Martin Götz            & LOVE                   & 1                     \\\\\n",
       "\t Oliver von Hartig      & LOVE                   & 1                     \\\\\n",
       "\t Thomas Marcio De Souza & LOVE                   & 1                     \\\\\n",
       "\t Michael Jessenwanger   & LOVE                   & 1                     \\\\\n",
       "\t Hans-Jürgen Reschke    & LOVE                   & 1                     \\\\\n",
       "\t Alan Kiss              & LOVE                   & 1                     \\\\\n",
       "\t Sascha Bogosavljevic   & LOVE                   & 1                     \\\\\n",
       "\t Dani Dümler            & LOVE                   & 1                     \\\\\n",
       "\t Eddie Lossau           & LOVE                   & 1                     \\\\\n",
       "\t Dirk Nowack            & LOVE                   & 1                     \\\\\n",
       "\t Holger Hinze           & LOVE                   & 1                     \\\\\n",
       "\t Claudi Le Mann         & LOVE                   & 1                     \\\\\n",
       "\t Gerd Vos               & LOVE                   & 1                     \\\\\n",
       "\t Jóvenes de Oro         & LOVE                   & 1                     \\\\\n",
       "\t Gedanken Melodie       & LOVE                   & 1                     \\\\\n",
       "\t Roger Mehardel         & LOVE                   & 1                     \\\\\n",
       "\t Claus Rin              & LOVE                   & 1                     \\\\\n",
       "\t Jens Ziss              & LOVE                   & 1                     \\\\\n",
       "\t Andrea Meyhoff-Buscher & LOVE                   & 1                     \\\\\n",
       "\t David Meerstein        & LOVE                   & 1                     \\\\\n",
       "\\end{tabular}\n"
      ],
      "text/markdown": [
       "\n",
       "| user_name | reaction | count |\n",
       "|---|---|---|\n",
       "| Günter Pech          | LOVE                 |  2                   |\n",
       "| Rainer Jensch        | LOVE                 | 13                   |\n",
       "| Peter Stein          | LOVE                 |  7                   |\n",
       "| Robin Prokaska       | LOVE                 | 24                   |\n",
       "| Thomas Bernhard      | LOVE                 |  5                   |\n",
       "| David Bräuer         | LOVE                 |  1                   |\n",
       "| Ingrid Baumeister    | LOVE                 | 34                   |\n",
       "| Kim Hödl             | LOVE                 | 14                   |\n",
       "| Manfred Schmidt      | LOVE                 |  3                   |\n",
       "| Anna Jes             | LOVE                 | 15                   |\n",
       "| Timo Gründert        | LOVE                 |  4                   |\n",
       "| Helena Winkler       | LOVE                 |  3                   |\n",
       "| Bach Dirk            | LOVE                 | 10                   |\n",
       "| Nolan Reimann        | LOVE                 |  1                   |\n",
       "| Sylvia Morgenstern   | LOVE                 | 12                   |\n",
       "| Marcel Bo            | LOVE                 | 16                   |\n",
       "| Andreas Frötschner   | LOVE                 |  1                   |\n",
       "| Ralf Kaufmann        | LOVE                 |  5                   |\n",
       "| Rolf Göhl            | LOVE                 |  1                   |\n",
       "| Cornelia Jarvis      | LOVE                 |  1                   |\n",
       "| Rolf Brandt          | LOVE                 | 14                   |\n",
       "| Thomas Korte         | LOVE                 |  5                   |\n",
       "| Damir Lu             | LOVE                 |  2                   |\n",
       "| Piotr Haidhof        | LOVE                 |  3                   |\n",
       "| Conny Berger         | LOVE                 | 18                   |\n",
       "| Sigrid Schenköwitz   | LOVE                 | 14                   |\n",
       "| Velichka Mutavchieva | LOVE                 |  7                   |\n",
       "| Hermann Schloss      | LOVE                 |  1                   |\n",
       "| Dagmar Korn          | LOVE                 | 17                   |\n",
       "| Thomas Krebs         | LOVE                 |  5                   |\n",
       "| ... | ... | ... |\n",
       "| Luca Müller            | LOVE                   | 1                      |\n",
       "| Karsten Hahn           | LOVE                   | 1                      |\n",
       "| Guggy Boss             | LOVE                   | 1                      |\n",
       "| Encho Enchev           | LOVE                   | 1                      |\n",
       "| Anni Meister           | LOVE                   | 1                      |\n",
       "| Beate Kliemann         | LOVE                   | 1                      |\n",
       "| Sascha Darki           | LOVE                   | 1                      |\n",
       "| Ralf Buthut            | LOVE                   | 1                      |\n",
       "| Jan Hofmann            | LOVE                   | 1                      |\n",
       "| Kevin Mike Peters      | LOVE                   | 1                      |\n",
       "| Martin Götz            | LOVE                   | 1                      |\n",
       "| Oliver von Hartig      | LOVE                   | 1                      |\n",
       "| Thomas Marcio De Souza | LOVE                   | 1                      |\n",
       "| Michael Jessenwanger   | LOVE                   | 1                      |\n",
       "| Hans-Jürgen Reschke    | LOVE                   | 1                      |\n",
       "| Alan Kiss              | LOVE                   | 1                      |\n",
       "| Sascha Bogosavljevic   | LOVE                   | 1                      |\n",
       "| Dani Dümler            | LOVE                   | 1                      |\n",
       "| Eddie Lossau           | LOVE                   | 1                      |\n",
       "| Dirk Nowack            | LOVE                   | 1                      |\n",
       "| Holger Hinze           | LOVE                   | 1                      |\n",
       "| Claudi Le Mann         | LOVE                   | 1                      |\n",
       "| Gerd Vos               | LOVE                   | 1                      |\n",
       "| Jóvenes de Oro         | LOVE                   | 1                      |\n",
       "| Gedanken Melodie       | LOVE                   | 1                      |\n",
       "| Roger Mehardel         | LOVE                   | 1                      |\n",
       "| Claus Rin              | LOVE                   | 1                      |\n",
       "| Jens Ziss              | LOVE                   | 1                      |\n",
       "| Andrea Meyhoff-Buscher | LOVE                   | 1                      |\n",
       "| David Meerstein        | LOVE                   | 1                      |\n",
       "\n"
      ],
      "text/plain": [
       "      user_name              reaction count\n",
       "1     Günter Pech            LOVE      2   \n",
       "2     Rainer Jensch          LOVE     13   \n",
       "3     Peter Stein            LOVE      7   \n",
       "4     Robin Prokaska         LOVE     24   \n",
       "5     Thomas Bernhard        LOVE      5   \n",
       "6     David Bräuer           LOVE      1   \n",
       "7     Ingrid Baumeister      LOVE     34   \n",
       "8     Kim Hödl               LOVE     14   \n",
       "9     Manfred Schmidt        LOVE      3   \n",
       "10    Anna Jes               LOVE     15   \n",
       "11    Timo Gründert          LOVE      4   \n",
       "12    Helena Winkler         LOVE      3   \n",
       "13    Bach Dirk              LOVE     10   \n",
       "14    Nolan Reimann          LOVE      1   \n",
       "15    Sylvia Morgenstern     LOVE     12   \n",
       "16    Marcel Bo              LOVE     16   \n",
       "17    Andreas Frötschner     LOVE      1   \n",
       "18    Ralf Kaufmann          LOVE      5   \n",
       "19    Rolf Göhl              LOVE      1   \n",
       "20    Cornelia Jarvis        LOVE      1   \n",
       "21    Rolf Brandt            LOVE     14   \n",
       "22    Thomas Korte           LOVE      5   \n",
       "23    Damir Lu               LOVE      2   \n",
       "24    Piotr Haidhof          LOVE      3   \n",
       "25    Conny Berger           LOVE     18   \n",
       "26    Sigrid Schenköwitz     LOVE     14   \n",
       "27    Velichka Mutavchieva   LOVE      7   \n",
       "28    Hermann Schloss        LOVE      1   \n",
       "29    Dagmar Korn            LOVE     17   \n",
       "30    Thomas Krebs           LOVE      5   \n",
       "...   ...                    ...      ...  \n",
       "13911 Luca Müller            LOVE     1    \n",
       "13912 Karsten Hahn           LOVE     1    \n",
       "13913 Guggy Boss             LOVE     1    \n",
       "13914 Encho Enchev           LOVE     1    \n",
       "13915 Anni Meister           LOVE     1    \n",
       "13916 Beate Kliemann         LOVE     1    \n",
       "13917 Sascha Darki           LOVE     1    \n",
       "13918 Ralf Buthut            LOVE     1    \n",
       "13919 Jan Hofmann            LOVE     1    \n",
       "13920 Kevin Mike Peters      LOVE     1    \n",
       "13921 Martin Götz            LOVE     1    \n",
       "13922 Oliver von Hartig      LOVE     1    \n",
       "13923 Thomas Marcio De Souza LOVE     1    \n",
       "13924 Michael Jessenwanger   LOVE     1    \n",
       "13925 Hans-Jürgen Reschke    LOVE     1    \n",
       "13926 Alan Kiss              LOVE     1    \n",
       "13927 Sascha Bogosavljevic   LOVE     1    \n",
       "13928 Dani Dümler            LOVE     1    \n",
       "13929 Eddie Lossau           LOVE     1    \n",
       "13930 Dirk Nowack            LOVE     1    \n",
       "13931 Holger Hinze           LOVE     1    \n",
       "13932 Claudi Le Mann         LOVE     1    \n",
       "13933 Gerd Vos               LOVE     1    \n",
       "13934 Jóvenes de Oro         LOVE     1    \n",
       "13935 Gedanken Melodie       LOVE     1    \n",
       "13936 Roger Mehardel         LOVE     1    \n",
       "13937 Claus Rin              LOVE     1    \n",
       "13938 Jens Ziss              LOVE     1    \n",
       "13939 Andrea Meyhoff-Buscher LOVE     1    \n",
       "13940 David Meerstein        LOVE     1    "
      ]
     },
     "metadata": {},
     "output_type": "display_data"
    }
   ],
   "source": [
    "afd.df[afd.df$reaction==\"LOVE\",]"
   ]
  },
  {
   "cell_type": "markdown",
   "metadata": {},
   "source": [
    "### 6. How many users used the reaction LOVE?"
   ]
  },
  {
   "cell_type": "code",
   "execution_count": 44,
   "metadata": {},
   "outputs": [
    {
     "data": {
      "text/html": [
       "13940"
      ],
      "text/latex": [
       "13940"
      ],
      "text/markdown": [
       "13940"
      ],
      "text/plain": [
       "[1] 13940"
      ]
     },
     "metadata": {},
     "output_type": "display_data"
    }
   ],
   "source": [
    "nrow(afd.df[afd.df$reaction==\"LOVE\",])"
   ]
  },
  {
   "cell_type": "markdown",
   "metadata": {},
   "source": [
    "### 7. What is the name of the user that liked most posts? (Harder question)"
   ]
  },
  {
   "cell_type": "markdown",
   "metadata": {},
   "source": [
    "Tip: Create first a variable with the dataframe that includes all users that LIKE the AfD\n",
    "\n",
    "And then find the max() from this variable"
   ]
  },
  {
   "cell_type": "code",
   "execution_count": 45,
   "metadata": {},
   "outputs": [
    {
     "data": {
      "text/html": [
       "<table>\n",
       "<thead><tr><th></th><th scope=col>user_name</th><th scope=col>reaction</th><th scope=col>count</th></tr></thead>\n",
       "<tbody>\n",
       "\t<tr><th scope=row>14603</th><td>Andreas Müller</td><td>LIKE          </td><td>138           </td></tr>\n",
       "</tbody>\n",
       "</table>\n"
      ],
      "text/latex": [
       "\\begin{tabular}{r|lll}\n",
       "  & user\\_name & reaction & count\\\\\n",
       "\\hline\n",
       "\t14603 & Andreas Müller & LIKE           & 138           \\\\\n",
       "\\end{tabular}\n"
      ],
      "text/markdown": [
       "\n",
       "| <!--/--> | user_name | reaction | count |\n",
       "|---|---|---|---|\n",
       "| 14603 | Andreas Müller | LIKE           | 138            |\n",
       "\n"
      ],
      "text/plain": [
       "      user_name      reaction count\n",
       "14603 Andreas Müller LIKE     138  "
      ]
     },
     "metadata": {},
     "output_type": "display_data"
    }
   ],
   "source": [
    "like.df <- afd.df[afd.df$reaction==\"LIKE\", ]\n",
    "like.df[like.df$count==max(like.df$count),]"
   ]
  },
  {
   "cell_type": "markdown",
   "metadata": {},
   "source": [
    "### 8. How many likes did the AfD obtained in total? (Harder question)"
   ]
  },
  {
   "cell_type": "code",
   "execution_count": 47,
   "metadata": {},
   "outputs": [
    {
     "data": {
      "text/html": [
       "395958"
      ],
      "text/latex": [
       "395958"
      ],
      "text/markdown": [
       "395958"
      ],
      "text/plain": [
       "[1] 395958"
      ]
     },
     "metadata": {},
     "output_type": "display_data"
    }
   ],
   "source": [
    "sum(like.df$count)"
   ]
  },
  {
   "cell_type": "markdown",
   "metadata": {},
   "source": [
    "### 9. Plot the histogram of likes"
   ]
  },
  {
   "cell_type": "code",
   "execution_count": 48,
   "metadata": {
    "scrolled": false
   },
   "outputs": [
    {
     "name": "stderr",
     "output_type": "stream",
     "text": [
      "`stat_bin()` using `bins = 30`. Pick better value with `binwidth`.\n"
     ]
    },
    {
     "data": {
      "image/png": "[encoded data removed]",
      "text/plain": [
       "plot without title"
      ]
     },
     "metadata": {},
     "output_type": "display_data"
    }
   ],
   "source": [
    "library(ggplot2)\n",
    "ggplot(data=like.df, aes(count)) + geom_histogram(color=\"black\", fill=\"purple\") "
   ]
  },
  {
   "cell_type": "markdown",
   "metadata": {},
   "source": [
    "### 10. Plot the box plot of the different reactions"
   ]
  },
  {
   "cell_type": "code",
   "execution_count": 49,
   "metadata": {
    "scrolled": false
   },
   "outputs": [
    {
     "data": {
      "image/png": "[encoded data removed]",
      "text/plain": [
       "plot without title"
      ]
     },
     "metadata": {},
     "output_type": "display_data"
    }
   ],
   "source": [
    "ggplot(afd.df, aes(x = reaction, y =count)) + geom_boxplot(fill = \"#FFDB6D\", color = \"#C4961A\")"
   ]
  }
 ],
 "metadata": {
  "kernelspec": {
   "display_name": "R",
   "language": "R",
   "name": "ir"
  },
  "language_info": {
   "codemirror_mode": "r",
   "file_extension": ".r",
   "mimetype": "text/x-r-source",
   "name": "R",
   "pygments_lexer": "r",
   "version": "3.6.1"
  }
 },
 "nbformat": 4,
 "nbformat_minor": 2
}
