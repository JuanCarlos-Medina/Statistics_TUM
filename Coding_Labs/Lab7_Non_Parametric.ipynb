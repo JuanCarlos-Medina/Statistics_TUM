{
 "cells": [
  {
   "cell_type": "code",
   "execution_count": 1,
   "metadata": {},
   "outputs": [
    {
     "name": "stderr",
     "output_type": "stream",
     "text": [
      "Registered S3 methods overwritten by 'ggplot2':\n",
      "  method         from \n",
      "  [.quosures     rlang\n",
      "  c.quosures     rlang\n",
      "  print.quosures rlang\n"
     ]
    }
   ],
   "source": [
    "library(ggplot2)\n",
    "options(repr.plot.width=4, repr.plot.height=4) # Size of the plots"
   ]
  },
  {
   "cell_type": "markdown",
   "metadata": {},
   "source": [
    "Today we will look at all the posts from the political parties in Germany and to compare between posts that were sponsored (ads) and those that were not sponsored (normal posts)"
   ]
  },
  {
   "cell_type": "code",
   "execution_count": 2,
   "metadata": {
    "scrolled": true
   },
   "outputs": [
    {
     "data": {
      "text/html": [
       "<table>\n",
       "<thead><tr><th scope=col>party</th><th scope=col>post_id</th><th scope=col>shares</th><th scope=col>likes</th><th scope=col>total_interactions</th><th scope=col>ad_group</th></tr></thead>\n",
       "<tbody>\n",
       "\t<tr><td>AfD                             </td><td>540404695989874_2439949619368696</td><td> 708                            </td><td>6109                            </td><td>7380                            </td><td>not sponsored                   </td></tr>\n",
       "\t<tr><td>AfD                             </td><td>540404695989874_2438363652860626</td><td>1278                            </td><td>3468                            </td><td>5919                            </td><td>not sponsored                   </td></tr>\n",
       "\t<tr><td>AfD                             </td><td>540404695989874_2444971565533168</td><td>2630                            </td><td>1021                            </td><td>7453                            </td><td>not sponsored                   </td></tr>\n",
       "\t<tr><td>AfD                             </td><td>540404695989874_2441894709174187</td><td>2539                            </td><td>2034                            </td><td>6753                            </td><td>not sponsored                   </td></tr>\n",
       "\t<tr><td>AfD                             </td><td>540404695989874_2444885268875131</td><td>2751                            </td><td> 843                            </td><td>8789                            </td><td>not sponsored                   </td></tr>\n",
       "\t<tr><td>AfD                             </td><td>540404695989874_2445023578861300</td><td>1384                            </td><td>1184                            </td><td>4936                            </td><td>not sponsored                   </td></tr>\n",
       "</tbody>\n",
       "</table>\n"
      ],
      "text/latex": [
       "\\begin{tabular}{r|llllll}\n",
       " party & post\\_id & shares & likes & total\\_interactions & ad\\_group\\\\\n",
       "\\hline\n",
       "\t AfD                                & 540404695989874\\_2439949619368696 &  708                               & 6109                               & 7380                               & not sponsored                     \\\\\n",
       "\t AfD                                & 540404695989874\\_2438363652860626 & 1278                               & 3468                               & 5919                               & not sponsored                     \\\\\n",
       "\t AfD                                & 540404695989874\\_2444971565533168 & 2630                               & 1021                               & 7453                               & not sponsored                     \\\\\n",
       "\t AfD                                & 540404695989874\\_2441894709174187 & 2539                               & 2034                               & 6753                               & not sponsored                     \\\\\n",
       "\t AfD                                & 540404695989874\\_2444885268875131 & 2751                               &  843                               & 8789                               & not sponsored                     \\\\\n",
       "\t AfD                                & 540404695989874\\_2445023578861300 & 1384                               & 1184                               & 4936                               & not sponsored                     \\\\\n",
       "\\end{tabular}\n"
      ],
      "text/markdown": [
       "\n",
       "| party | post_id | shares | likes | total_interactions | ad_group |\n",
       "|---|---|---|---|---|---|\n",
       "| AfD                              | 540404695989874_2439949619368696 |  708                             | 6109                             | 7380                             | not sponsored                    |\n",
       "| AfD                              | 540404695989874_2438363652860626 | 1278                             | 3468                             | 5919                             | not sponsored                    |\n",
       "| AfD                              | 540404695989874_2444971565533168 | 2630                             | 1021                             | 7453                             | not sponsored                    |\n",
       "| AfD                              | 540404695989874_2441894709174187 | 2539                             | 2034                             | 6753                             | not sponsored                    |\n",
       "| AfD                              | 540404695989874_2444885268875131 | 2751                             |  843                             | 8789                             | not sponsored                    |\n",
       "| AfD                              | 540404695989874_2445023578861300 | 1384                             | 1184                             | 4936                             | not sponsored                    |\n",
       "\n"
      ],
      "text/plain": [
       "  party post_id                          shares likes total_interactions\n",
       "1 AfD   540404695989874_2439949619368696  708   6109  7380              \n",
       "2 AfD   540404695989874_2438363652860626 1278   3468  5919              \n",
       "3 AfD   540404695989874_2444971565533168 2630   1021  7453              \n",
       "4 AfD   540404695989874_2441894709174187 2539   2034  6753              \n",
       "5 AfD   540404695989874_2444885268875131 2751    843  8789              \n",
       "6 AfD   540404695989874_2445023578861300 1384   1184  4936              \n",
       "  ad_group     \n",
       "1 not sponsored\n",
       "2 not sponsored\n",
       "3 not sponsored\n",
       "4 not sponsored\n",
       "5 not sponsored\n",
       "6 not sponsored"
      ]
     },
     "metadata": {},
     "output_type": "display_data"
    }
   ],
   "source": [
    "ads.df <- read.csv(\"facebook_advertising.csv\")\n",
    "head(ads.df)"
   ]
  },
  {
   "cell_type": "code",
   "execution_count": 3,
   "metadata": {
    "scrolled": true
   },
   "outputs": [
    {
     "data": {
      "text/plain": [
       "   party                                  post_id          shares        \n",
       " AfD  :3531   100001812953461_2381841601846165:    1   Min.   :    0.00  \n",
       " CDU  :1459   100004611013509_2314312881932371:    1   1st Qu.:    3.00  \n",
       " CSU  : 328   100028034795100_2380442865319372:    1   Median :   10.00  \n",
       " FDP  :1952   100035206962284_2342562292440763:    1   Mean   :   79.69  \n",
       " Grüne:1385   100035808759947_2379303195433339:    1   3rd Qu.:   30.00  \n",
       " Linke:1268   10155783405575683:9:0           :    1   Max.   :11531.00  \n",
       " SPD  :1573   (Other)                         :11490                     \n",
       "     likes         total_interactions          ad_group    \n",
       " Min.   :    0.0   Min.   :    0.0    high         :  166  \n",
       " 1st Qu.:   22.0   1st Qu.:   34.0    low          :  213  \n",
       " Median :   46.0   Median :   75.0    middle       :  143  \n",
       " Mean   :  170.2   Mean   :  358.2    not sponsored:10974  \n",
       " 3rd Qu.:  107.0   3rd Qu.:  195.0                         \n",
       " Max.   :29526.0   Max.   :39568.0                         \n",
       "                                                           "
      ]
     },
     "metadata": {},
     "output_type": "display_data"
    }
   ],
   "source": [
    "summary(ads.df)"
   ]
  },
  {
   "cell_type": "code",
   "execution_count": 4,
   "metadata": {
    "scrolled": false
   },
   "outputs": [
    {
     "data": {
      "image/png": "[encoded data removed]",
      "text/plain": [
       "plot without title"
      ]
     },
     "metadata": {},
     "output_type": "display_data"
    }
   ],
   "source": [
    "ggplot(data=ads.df, aes(total_interactions)) + geom_histogram(bins=50, color=\"black\", fill=\"blue\") "
   ]
  },
  {
   "cell_type": "markdown",
   "metadata": {},
   "source": [
    "# <font color='#FD7C6E'> Wilcoxon rank sum test </font> "
   ]
  },
  {
   "cell_type": "markdown",
   "metadata": {},
   "source": [
    "**We are going to compare the likes between political parties:**"
   ]
  },
  {
   "cell_type": "code",
   "execution_count": 5,
   "metadata": {
    "scrolled": false
   },
   "outputs": [
    {
     "data": {
      "image/png": "[encoded data removed]",
      "text/plain": [
       "plot without title"
      ]
     },
     "metadata": {},
     "output_type": "display_data"
    }
   ],
   "source": [
    "ggplot(data=ads.df, aes(x=party, y=likes)) + geom_boxplot()"
   ]
  },
  {
   "cell_type": "markdown",
   "metadata": {},
   "source": [
    "## Activity 1: Select the likes of all the posts from CDU and assign it to group 1, select the likes of all the posts form FDP and assign it to group 2"
   ]
  },
  {
   "cell_type": "code",
   "execution_count": 6,
   "metadata": {},
   "outputs": [],
   "source": [
    "group1 <- ads.df[ads.df$party==\"CDU\", ]$likes\n",
    "group2 <- ads.df[ads.df$party==\"FDP\", ]$likes"
   ]
  },
  {
   "cell_type": "markdown",
   "metadata": {},
   "source": [
    "## Activity 2: What are the mean for CDU and FDP likes?"
   ]
  },
  {
   "cell_type": "code",
   "execution_count": 7,
   "metadata": {},
   "outputs": [
    {
     "data": {
      "text/html": [
       "85.8807402330363"
      ],
      "text/latex": [
       "85.8807402330363"
      ],
      "text/markdown": [
       "85.8807402330363"
      ],
      "text/plain": [
       "[1] 85.88074"
      ]
     },
     "metadata": {},
     "output_type": "display_data"
    },
    {
     "data": {
      "text/html": [
       "98.0332991803279"
      ],
      "text/latex": [
       "98.0332991803279"
      ],
      "text/markdown": [
       "98.0332991803279"
      ],
      "text/plain": [
       "[1] 98.0333"
      ]
     },
     "metadata": {},
     "output_type": "display_data"
    }
   ],
   "source": [
    "mean(group1)\n",
    "mean(group2)"
   ]
  },
  {
   "cell_type": "code",
   "execution_count": 8,
   "metadata": {
    "scrolled": true
   },
   "outputs": [
    {
     "data": {
      "text/plain": [
       "\n",
       "\tWilcoxon rank sum test with continuity correction\n",
       "\n",
       "data:  group1 and group2\n",
       "W = 1708482, p-value = 1\n",
       "alternative hypothesis: true location shift is less than 0\n"
      ]
     },
     "metadata": {},
     "output_type": "display_data"
    }
   ],
   "source": [
    "wilcox.test(group1, group2 , alternative = \"less\")"
   ]
  },
  {
   "cell_type": "markdown",
   "metadata": {},
   "source": [
    "## Activity 3: Compare the CSU with the rest of the parties, with which one is there a significant difference?"
   ]
  },
  {
   "cell_type": "code",
   "execution_count": null,
   "metadata": {},
   "outputs": [],
   "source": []
  },
  {
   "cell_type": "markdown",
   "metadata": {},
   "source": [
    "# <font color='#FD7C6E'> Kruskal-Wallis test </font>"
   ]
  },
  {
   "cell_type": "markdown",
   "metadata": {},
   "source": [
    "**Now we are going to compare between non sponsored posts, low sponsored, middle sponsored and highly sponsored posts**"
   ]
  },
  {
   "cell_type": "code",
   "execution_count": 9,
   "metadata": {
    "scrolled": false
   },
   "outputs": [
    {
     "data": {
      "image/png": "[encoded data removed]",
      "text/plain": [
       "plot without title"
      ]
     },
     "metadata": {},
     "output_type": "display_data"
    }
   ],
   "source": [
    "SPD <- ads.df[ads.df$party==\"SPD\", ]\n",
    "ggplot(data=SPD, aes(x=ad_group, y=total_interactions)) + geom_boxplot()"
   ]
  },
  {
   "cell_type": "code",
   "execution_count": 10,
   "metadata": {
    "scrolled": true
   },
   "outputs": [
    {
     "data": {
      "text/plain": [
       "\n",
       "\tKruskal-Wallis rank sum test\n",
       "\n",
       "data:  total_interactions by ad_group\n",
       "Kruskal-Wallis chi-squared = 91.823, df = 3, p-value < 2.2e-16\n"
      ]
     },
     "metadata": {},
     "output_type": "display_data"
    }
   ],
   "source": [
    "kruskal.test(total_interactions ~ ad_group, data = SPD)"
   ]
  },
  {
   "cell_type": "code",
   "execution_count": 11,
   "metadata": {
    "scrolled": true
   },
   "outputs": [
    {
     "name": "stderr",
     "output_type": "stream",
     "text": [
      "Warning message in wilcox.test.default(xi, xj, paired = paired, ...):\n",
      "“cannot compute exact p-value with ties”"
     ]
    },
    {
     "data": {
      "text/plain": [
       "\n",
       "\tPairwise comparisons using Wilcoxon rank sum test \n",
       "\n",
       "data:  SPD$total_interactions and SPD$ad_group \n",
       "\n",
       "              high    low     middle\n",
       "low           2.5e-05 -       -     \n",
       "middle        0.0019  0.6278  -     \n",
       "not sponsored 1.4e-08 1.5e-11 0.0013\n",
       "\n",
       "P value adjustment method: BH "
      ]
     },
     "metadata": {},
     "output_type": "display_data"
    }
   ],
   "source": [
    "pairwise.wilcox.test(SPD$total_interactions, SPD$ad_group, p.adjust.method = \"BH\")"
   ]
  },
  {
   "cell_type": "markdown",
   "metadata": {},
   "source": [
    "## Activity 4: Repeat the Tests for the other parties, which parties did not achieve more interactions with their payed posts?"
   ]
  },
  {
   "cell_type": "markdown",
   "metadata": {},
   "source": [
    "# <font color='#FD7C6E'> Categorical Data: Goodness of Fit </font>"
   ]
  },
  {
   "cell_type": "markdown",
   "metadata": {},
   "source": [
    "We are going to evaluate a dataset of teachers during the Nazi times.\n",
    "\n",
    "* **Religion**     \n",
    "* **Cohort**  \n",
    "* **Residence** \n",
    "* **Gender**  \n",
    "* **Membership**    \n",
    "* **Count**"
   ]
  },
  {
   "cell_type": "code",
   "execution_count": 12,
   "metadata": {
    "scrolled": true
   },
   "outputs": [
    {
     "data": {
      "text/html": [
       "<table>\n",
       "<thead><tr><th scope=col>Religion</th><th scope=col>Cohort</th><th scope=col>Residence</th><th scope=col>Gender</th><th scope=col>Membership</th></tr></thead>\n",
       "<tbody>\n",
       "\t<tr><td>Protestant</td><td>Empire    </td><td>Rural     </td><td>Male      </td><td>Yes       </td></tr>\n",
       "\t<tr><td>Protestant</td><td>Empire    </td><td>Rural     </td><td>Male      </td><td>Yes       </td></tr>\n",
       "\t<tr><td>Protestant</td><td>Empire    </td><td>Rural     </td><td>Male      </td><td>Yes       </td></tr>\n",
       "\t<tr><td>Protestant</td><td>Empire    </td><td>Rural     </td><td>Male      </td><td>Yes       </td></tr>\n",
       "\t<tr><td>Protestant</td><td>Empire    </td><td>Rural     </td><td>Male      </td><td>Yes       </td></tr>\n",
       "\t<tr><td>Protestant</td><td>Empire    </td><td>Rural     </td><td>Male      </td><td>Yes       </td></tr>\n",
       "</tbody>\n",
       "</table>\n"
      ],
      "text/latex": [
       "\\begin{tabular}{r|lllll}\n",
       " Religion & Cohort & Residence & Gender & Membership\\\\\n",
       "\\hline\n",
       "\t Protestant & Empire     & Rural      & Male       & Yes       \\\\\n",
       "\t Protestant & Empire     & Rural      & Male       & Yes       \\\\\n",
       "\t Protestant & Empire     & Rural      & Male       & Yes       \\\\\n",
       "\t Protestant & Empire     & Rural      & Male       & Yes       \\\\\n",
       "\t Protestant & Empire     & Rural      & Male       & Yes       \\\\\n",
       "\t Protestant & Empire     & Rural      & Male       & Yes       \\\\\n",
       "\\end{tabular}\n"
      ],
      "text/markdown": [
       "\n",
       "| Religion | Cohort | Residence | Gender | Membership |\n",
       "|---|---|---|---|---|\n",
       "| Protestant | Empire     | Rural      | Male       | Yes        |\n",
       "| Protestant | Empire     | Rural      | Male       | Yes        |\n",
       "| Protestant | Empire     | Rural      | Male       | Yes        |\n",
       "| Protestant | Empire     | Rural      | Male       | Yes        |\n",
       "| Protestant | Empire     | Rural      | Male       | Yes        |\n",
       "| Protestant | Empire     | Rural      | Male       | Yes        |\n",
       "\n"
      ],
      "text/plain": [
       "  Religion   Cohort Residence Gender Membership\n",
       "1 Protestant Empire Rural     Male   Yes       \n",
       "2 Protestant Empire Rural     Male   Yes       \n",
       "3 Protestant Empire Rural     Male   Yes       \n",
       "4 Protestant Empire Rural     Male   Yes       \n",
       "5 Protestant Empire Rural     Male   Yes       \n",
       "6 Protestant Empire Rural     Male   Yes       "
      ]
     },
     "metadata": {},
     "output_type": "display_data"
    }
   ],
   "source": [
    "nazi.df <- read.csv(\"nazi.csv\")\n",
    "head(nazi.df)"
   ]
  },
  {
   "cell_type": "markdown",
   "metadata": {},
   "source": [
    "## Activity 5: Create a dataframe with only Nazi members, and another with non Nazi members"
   ]
  },
  {
   "cell_type": "code",
   "execution_count": 13,
   "metadata": {},
   "outputs": [],
   "source": [
    "members <- nazi.df[nazi.df$Membership==\"Yes\",]\n",
    "non.members <- nazi.df[nazi.df$Membership==\"No\",]"
   ]
  },
  {
   "cell_type": "markdown",
   "metadata": {},
   "source": [
    "**table( )** counts the number of occurrances for each category"
   ]
  },
  {
   "cell_type": "code",
   "execution_count": 14,
   "metadata": {
    "scrolled": true
   },
   "outputs": [
    {
     "data": {
      "text/plain": [
       "\n",
       "  Catholic       None Protestant \n",
       "       787        327       1970 "
      ]
     },
     "metadata": {},
     "output_type": "display_data"
    }
   ],
   "source": [
    "table(members$Religion)"
   ]
  },
  {
   "cell_type": "code",
   "execution_count": 15,
   "metadata": {
    "scrolled": true
   },
   "outputs": [
    {
     "data": {
      "text/plain": [
       "\n",
       "  Catholic       None Protestant \n",
       "      3327       2882       4273 "
      ]
     },
     "metadata": {},
     "output_type": "display_data"
    }
   ],
   "source": [
    "table(non.members$Religion)"
   ]
  },
  {
   "cell_type": "markdown",
   "metadata": {},
   "source": [
    "**chisq.test( )** with one variable calculates the goodness of fit test"
   ]
  },
  {
   "cell_type": "code",
   "execution_count": 16,
   "metadata": {
    "scrolled": true
   },
   "outputs": [
    {
     "data": {
      "text/plain": [
       "\n",
       "\tChi-squared test for given probabilities\n",
       "\n",
       "data:  table(members$Religion)\n",
       "X-squared = 1397.7, df = 2, p-value < 2.2e-16\n"
      ]
     },
     "metadata": {},
     "output_type": "display_data"
    }
   ],
   "source": [
    "chisq.test(table(members$Religion))"
   ]
  },
  {
   "cell_type": "code",
   "execution_count": 17,
   "metadata": {},
   "outputs": [
    {
     "data": {
      "text/plain": [
       "\n",
       "\tChi-squared test for given probabilities\n",
       "\n",
       "data:  table(non.members$Religion)\n",
       "X-squared = 288.86, df = 2, p-value < 2.2e-16\n"
      ]
     },
     "metadata": {},
     "output_type": "display_data"
    }
   ],
   "source": [
    "chisq.test(table(non.members$Religion))"
   ]
  },
  {
   "cell_type": "code",
   "execution_count": 18,
   "metadata": {
    "scrolled": true
   },
   "outputs": [
    {
     "data": {
      "text/plain": [
       "\n",
       "Rural Urban \n",
       " 1530  1554 "
      ]
     },
     "metadata": {},
     "output_type": "display_data"
    }
   ],
   "source": [
    "table(members$Residence)"
   ]
  },
  {
   "cell_type": "code",
   "execution_count": 19,
   "metadata": {
    "scrolled": true
   },
   "outputs": [
    {
     "data": {
      "text/plain": [
       "\n",
       "\tChi-squared test for given probabilities\n",
       "\n",
       "data:  table(members$Residence)\n",
       "X-squared = 0.18677, df = 1, p-value = 0.6656\n"
      ]
     },
     "metadata": {},
     "output_type": "display_data"
    }
   ],
   "source": [
    "chisq.test(table(members$Residence))"
   ]
  },
  {
   "cell_type": "markdown",
   "metadata": {},
   "source": [
    "You can give a vector of proportions you hipothezise its correct. Imagine we new that from all the Nazi members 15% were women and 85% men. Is it the same proportions for teachers?"
   ]
  },
  {
   "cell_type": "code",
   "execution_count": 20,
   "metadata": {
    "scrolled": true
   },
   "outputs": [
    {
     "data": {
      "text/plain": [
       "\n",
       "Female   Male \n",
       "   491   2593 "
      ]
     },
     "metadata": {},
     "output_type": "display_data"
    }
   ],
   "source": [
    "table(members$Gender)"
   ]
  },
  {
   "cell_type": "code",
   "execution_count": 21,
   "metadata": {
    "scrolled": true
   },
   "outputs": [
    {
     "data": {
      "text/plain": [
       "\n",
       "\tChi-squared test for given probabilities\n",
       "\n",
       "data:  table(members$Gender)\n",
       "X-squared = 2.0512, df = 1, p-value = 0.1521\n"
      ]
     },
     "metadata": {},
     "output_type": "display_data"
    }
   ],
   "source": [
    "chisq.test(table(members$Gender), p= c(0.15,0.85))"
   ]
  },
  {
   "cell_type": "markdown",
   "metadata": {},
   "source": [
    "# <font color='#FD7C6E'> Categorical Data: Independence Test </font>"
   ]
  },
  {
   "cell_type": "markdown",
   "metadata": {},
   "source": [
    "**table( )** with two variables counts the number of occurrances for each category an creates a contingency table"
   ]
  },
  {
   "cell_type": "code",
   "execution_count": 22,
   "metadata": {
    "scrolled": false
   },
   "outputs": [
    {
     "data": {
      "text/plain": [
       "     \n",
       "      Catholic None Protestant\n",
       "  No      3327 2882       4273\n",
       "  Yes      787  327       1970"
      ]
     },
     "metadata": {},
     "output_type": "display_data"
    }
   ],
   "source": [
    "table(nazi.df$Membership, nazi.df$Religion)"
   ]
  },
  {
   "cell_type": "code",
   "execution_count": 23,
   "metadata": {
    "scrolled": false
   },
   "outputs": [
    {
     "data": {
      "text/plain": [
       "\n",
       "\tPearson's Chi-squared test\n",
       "\n",
       "data:  table(nazi.df$Membership, nazi.df$Religion)\n",
       "X-squared = 594.46, df = 2, p-value < 2.2e-16\n"
      ]
     },
     "metadata": {},
     "output_type": "display_data"
    }
   ],
   "source": [
    "chisq.test(table(nazi.df$Membership, nazi.df$Religion))"
   ]
  },
  {
   "cell_type": "code",
   "execution_count": 24,
   "metadata": {
    "scrolled": true
   },
   "outputs": [
    {
     "data": {
      "text/plain": [
       "     \n",
       "      Female Male\n",
       "  No    4636 5846\n",
       "  Yes    491 2593"
      ]
     },
     "metadata": {},
     "output_type": "display_data"
    }
   ],
   "source": [
    "table(nazi.df$Membership, nazi.df$Gender)"
   ]
  },
  {
   "cell_type": "code",
   "execution_count": 25,
   "metadata": {
    "scrolled": true
   },
   "outputs": [
    {
     "data": {
      "text/plain": [
       "\n",
       "\tPearson's Chi-squared test with Yates' continuity correction\n",
       "\n",
       "data:  table(nazi.df$Membership, nazi.df$Gender)\n",
       "X-squared = 810.98, df = 1, p-value < 2.2e-16\n"
      ]
     },
     "metadata": {},
     "output_type": "display_data"
    }
   ],
   "source": [
    "chisq.test(table(nazi.df$Membership, nazi.df$Gender))"
   ]
  }
 ],
 "metadata": {
  "kernelspec": {
   "display_name": "R",
   "language": "R",
   "name": "ir"
  },
  "language_info": {
   "codemirror_mode": "r",
   "file_extension": ".r",
   "mimetype": "text/x-r-source",
   "name": "R",
   "pygments_lexer": "r",
   "version": "3.6.1"
  }
 },
 "nbformat": 4,
 "nbformat_minor": 2
}
